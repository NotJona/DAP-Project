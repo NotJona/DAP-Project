{
 "cells": [
  {
   "cell_type": "markdown",
   "metadata": {},
   "source": [
    "Setup:"
   ]
  },
  {
   "cell_type": "markdown",
   "metadata": {},
   "source": [
    "Setting up the conda environment:\n",
    "1. install Python 3.6.8 and Anaconda\n",
    "2. run \"conda create -n example_name python=3.6.8\" to create a conda environment\n",
    "3. activate the example_name environment\n",
    "4. run \"conda install pytorch-cpu==1.1.0 torchvision-cpu==0.3.0 cpuonly -c pytorch\"\n",
    "5. run \"conda install allennlp==0.8.5 seqeval six tqdm lang2vec overrides==3.1.0\""
   ]
  },
  {
   "cell_type": "markdown",
   "metadata": {},
   "source": [
    "The code for the project itself can be found on Github: https://github.com/NotJona/DAP-Project/tree/jona"
   ]
  },
  {
   "cell_type": "markdown",
   "metadata": {},
   "source": [
    "Important: this project worked on both a Windows 11 PC and one running on Linux, but NOT on Mac!"
   ]
  },
  {
   "cell_type": "markdown",
   "metadata": {},
   "source": [
    "Let's look at the data we are using. The treebanks are all taken form the Universal Dependencies website (make sure to download them yourself and save them under udapter/data (folder has to be created)). \n",
    "1. For English: English EWT\n",
    "2. For Japanese: Japanese GSD\n",
    "3. For Vietnamese: Vietnamese VTB\n",
    "4. For Chinese: Chinese GSD\n",
    "\n",
    "Let's look at the different Treebanks. How much sentences are in each set? How much tokens?"
   ]
  },
  {
   "cell_type": "code",
   "execution_count": 1,
   "metadata": {},
   "outputs": [],
   "source": [
    "def count_conllu_items_sentences(file_path):\n",
    "    \"\"\"Counts segments in a conllu file, which (mostly) correspond to sentences\"\"\"\n",
    "    item_count = 0\n",
    "    inside_item = False\n",
    "    \n",
    "    with open(file_path, 'r', encoding='utf-8') as file:\n",
    "        for line in file:\n",
    "            line = line.strip()\n",
    "            if line.startswith('# sent_id'):\n",
    "                if inside_item:\n",
    "                    item_count += 1\n",
    "                inside_item = True\n",
    "            elif line == '' and inside_item:\n",
    "                item_count += 1\n",
    "                inside_item = False\n",
    "\n",
    "    return item_count"
   ]
  },
  {
   "cell_type": "code",
   "execution_count": 2,
   "metadata": {},
   "outputs": [],
   "source": [
    "def count_conllu_items_tokens(file_path):\n",
    "    \"\"\"Counts 'sentence elements'. This is not the same as tokens, since sometimes a 'sentence element' is made of two words\"\"\"\n",
    "    item_count = 0\n",
    "    \n",
    "    with open(file_path, 'r', encoding='utf-8') as file:\n",
    "        for line in file:\n",
    "            # Strip leading/trailing whitespace\n",
    "            line = line.strip()\n",
    "            # Ignore empty lines and comment lines\n",
    "            if line and not line.startswith('#'):\n",
    "                item_count += 1\n",
    "\n",
    "    return item_count"
   ]
  },
  {
   "cell_type": "markdown",
   "metadata": {},
   "source": [
    "Let's look at English:"
   ]
  },
  {
   "cell_type": "code",
   "execution_count": 3,
   "metadata": {},
   "outputs": [
    {
     "name": "stdout",
     "output_type": "stream",
     "text": [
      "The English training CoNLL-U file contains 12543 items and 204607 tokens.\n",
      "The English developement  CoNLL-U file contains 2002 items and 25150 tokens.\n",
      "The English test CoNLL-U file contains 2077 items and 25097 tokens.\n",
      "In total the English CoNLL-U files contains 16622 items and 254854 tokens.\n"
     ]
    }
   ],
   "source": [
    "file_path_en_dev = \"data/ud-treebanks-v2.3/UD_English-EWT/en_ewt-ud-dev.conllu\"\n",
    "item_count_en_dev = count_conllu_items_sentences(file_path_en_dev)\n",
    "token_count_en_dev = count_conllu_items_tokens(file_path_en_dev)\n",
    "file_path_en_test = \"data/ud-treebanks-v2.3/UD_English-EWT/en_ewt-ud-test.conllu\"\n",
    "item_count_en_test = count_conllu_items_sentences(file_path_en_test)\n",
    "token_count_en_test = count_conllu_items_tokens(file_path_en_test)\n",
    "file_path_en_train = \"data/ud-treebanks-v2.3/UD_English-EWT/en_ewt-ud-train.conllu\"\n",
    "item_count_en_train = count_conllu_items_sentences(file_path_en_train)\n",
    "token_count_en_train = count_conllu_items_tokens(file_path_en_train)\n",
    "\n",
    "print(f'The English training CoNLL-U file contains {item_count_en_train} items and {token_count_en_train} tokens.')\n",
    "print(f'The English developement  CoNLL-U file contains {item_count_en_dev} items and {token_count_en_dev} tokens.')\n",
    "print(f'The English test CoNLL-U file contains {item_count_en_test} items and {token_count_en_test} tokens.')\n",
    "print(f'In total the English CoNLL-U files contains {item_count_en_dev + item_count_en_test + item_count_en_train} items and {token_count_en_dev + token_count_en_test + token_count_en_train} tokens.')"
   ]
  },
  {
   "cell_type": "markdown",
   "metadata": {},
   "source": [
    "Let's look at Japanese:"
   ]
  },
  {
   "cell_type": "code",
   "execution_count": 4,
   "metadata": {},
   "outputs": [
    {
     "name": "stdout",
     "output_type": "stream",
     "text": [
      "The Japanese training CoNLL-U file contains 7133 items and 160419 tokens.\n",
      "The Japanese developement  CoNLL-U file contains 511 items and 11491 tokens.\n",
      "The Japanese test CoNLL-U file contains 551 items and 12438 tokens.\n",
      "In total the Japanese CoNLL-U files contains 8195 items and 184348 tokens.\n"
     ]
    }
   ],
   "source": [
    "file_path_ja_dev = \"data/ud-treebanks-v2.3/UD_Japanese-GSD/ja_gsd-ud-dev.conllu\"\n",
    "item_count_ja_dev = count_conllu_items_sentences(file_path_ja_dev)\n",
    "token_count_ja_dev = count_conllu_items_tokens(file_path_ja_dev)\n",
    "file_path_ja_test = \"data/ud-treebanks-v2.3/UD_Japanese-GSD/ja_gsd-ud-test.conllu\"\n",
    "item_count_ja_test = count_conllu_items_sentences(file_path_ja_test)\n",
    "token_count_ja_test = count_conllu_items_tokens(file_path_ja_test)\n",
    "file_path_ja_train = \"data/ud-treebanks-v2.3/UD_Japanese-GSD/ja_gsd-ud-train.conllu\"\n",
    "item_count_ja_train = count_conllu_items_sentences(file_path_ja_train)\n",
    "token_count_ja_train = count_conllu_items_tokens(file_path_ja_train)\n",
    "\n",
    "print(f'The Japanese training CoNLL-U file contains {item_count_ja_train} items and {token_count_ja_train} tokens.')\n",
    "print(f'The Japanese developement  CoNLL-U file contains {item_count_ja_dev} items and {token_count_ja_dev} tokens.')\n",
    "print(f'The Japanese test CoNLL-U file contains {item_count_ja_test} items and {token_count_ja_test} tokens.')\n",
    "print(f'In total the Japanese CoNLL-U files contains {item_count_ja_dev + item_count_ja_test + item_count_ja_train} items and {token_count_ja_dev + token_count_ja_test + token_count_ja_train} tokens.')\n"
   ]
  },
  {
   "cell_type": "markdown",
   "metadata": {},
   "source": [
    "Let's look at Vietnamese:"
   ]
  },
  {
   "cell_type": "code",
   "execution_count": 5,
   "metadata": {},
   "outputs": [
    {
     "name": "stdout",
     "output_type": "stream",
     "text": [
      "The Vietnamese training CoNLL-U file contains 1400 items and 20285 tokens.\n",
      "The Vietnamese developement  CoNLL-U file contains 800 items and 11514 tokens.\n",
      "The Vietnamese test CoNLL-U file contains 800 items and 11955 tokens.\n",
      "In total the Vietnamese CoNLL-U file contains 3000 items and 43754 tokens.\n"
     ]
    }
   ],
   "source": [
    "file_path_vi_dev = \"data/ud-treebanks-v2.3/UD_Vietnamese-VTB/vi_vtb-ud-dev.conllu\"\n",
    "item_count_vi_dev = count_conllu_items_sentences(file_path_vi_dev)\n",
    "token_count_vi_dev = count_conllu_items_tokens(file_path_vi_dev)\n",
    "file_path_vi_test = \"data/ud-treebanks-v2.3/UD_Vietnamese-VTB/vi_vtb-ud-test.conllu\"\n",
    "item_count_vi_test = count_conllu_items_sentences(file_path_vi_test)\n",
    "token_count_vi_test = count_conllu_items_tokens(file_path_vi_test)\n",
    "file_path_vi_train = \"data/ud-treebanks-v2.3/UD_Vietnamese-VTB/vi_vtb-ud-train.conllu\"\n",
    "item_count_vi_train = count_conllu_items_sentences(file_path_vi_train)\n",
    "token_count_vi_train = count_conllu_items_tokens(file_path_vi_train)\n",
    "\n",
    "print(f'The Vietnamese training CoNLL-U file contains {item_count_vi_train} items and {token_count_vi_train} tokens.')\n",
    "print(f'The Vietnamese developement  CoNLL-U file contains {item_count_vi_dev} items and {token_count_vi_dev} tokens.')\n",
    "print(f'The Vietnamese test CoNLL-U file contains {item_count_vi_test} items and {token_count_vi_test} tokens.')\n",
    "print(f'In total the Vietnamese CoNLL-U file contains {item_count_vi_dev + item_count_vi_test + item_count_vi_train} items and {token_count_vi_dev+token_count_vi_test+token_count_vi_train} tokens.')"
   ]
  },
  {
   "cell_type": "markdown",
   "metadata": {},
   "source": [
    "Let's now generate subsets. For my different models I generated random subsets of training, dev and/or test set for English, Japanese and Vietnamese. The smallest models had 100 sentences in each set, the \"big\" models had 400 sentences for the training sets, but test and dev set remnained the same. For the \"ultimate\" models training, dev and test set in the 3 languages have the sizes seen below: "
   ]
  },
  {
   "cell_type": "code",
   "execution_count": null,
   "metadata": {},
   "outputs": [],
   "source": [
    "import random\n",
    "\n",
    "def generate_rand_values(file_path, n):\n",
    "    l = []\n",
    "    with open(file_path, 'r', encoding='utf-8') as file:\n",
    "        file_content = file.read()\n",
    "        length = len(parse(file_content))\n",
    "    \n",
    "    while len(l)<n:\n",
    "        a = random.randint(0, length)\n",
    "        if a not in l:\n",
    "            l.append(a)\n",
    "    return l\n",
    "\n",
    "def choose_segments(file_path, n):\n",
    "    result_data = []\n",
    "    index = generate_rand_values(file_path, n)\n",
    "    item_count = 0\n",
    "    inside_item = False\n",
    "\n",
    "    with open(file_path, 'r', encoding='utf-8') as file:    \n",
    "        for line in file:\n",
    "            line = line.strip()\n",
    "            if line.startswith('# sent_id'):\n",
    "                inside_item = True\n",
    "                if item_count in index:\n",
    "                    result_data.append(line)\n",
    "            elif line == '' and inside_item:\n",
    "                item_count += 1\n",
    "                inside_item = False\n",
    "                if item_count in index:\n",
    "                    result_data.append(line)\n",
    "            else:\n",
    "                if item_count in index:\n",
    "                    result_data.append(line)\n",
    "    return result_data"
   ]
  },
  {
   "cell_type": "code",
   "execution_count": null,
   "metadata": {},
   "outputs": [],
   "source": [
    "train_data_en = choose_segments(file_path_en_train, 12000) \n",
    "train_data_ja = choose_segments(file_path_ja_train, 6000) \n",
    "train_data_vi = choose_segments(file_path_vi_train, 1200) \n",
    "test_data_en = choose_segments(file_path_en_test, 740) \n",
    "test_data_ja = choose_segments(file_path_ja_test, 470) \n",
    "test_data_vi = choose_segments(file_path_vi_test, 590) \n",
    "dev_data_en = choose_segments(file_path_en_dev, 740) \n",
    "dev_data_ja = choose_segments(file_path_ja_dev, 470) \n",
    "dev_data_vi = choose_segments(file_path_vi_dev, 590) "
   ]
  },
  {
   "cell_type": "code",
   "execution_count": null,
   "metadata": {},
   "outputs": [],
   "source": [
    "with open(\"en_ud-train.conllu\", \"w\", encoding=\"utf-8\") as new_file:\n",
    "    for line in train_data_en:\n",
    "        new_file.write(line+\"\\n\")\n",
    "with open(\"ja_ud-train.conllu\", \"w\", encoding=\"utf-8\") as new_file:\n",
    "    for line in train_data_ja:\n",
    "        new_file.write(line+\"\\n\")\n",
    "with open(\"vi_ud-train.conllu\", \"w\", encoding=\"utf-8\") as new_file:\n",
    "    for line in train_data_vi:\n",
    "        new_file.write(line+\"\\n\")\n",
    "with open(\"en_ud-test.conllu\", \"w\", encoding=\"utf-8\") as new_file:\n",
    "    for line in test_data_en:\n",
    "        new_file.write(line+\"\\n\")\n",
    "with open(\"ja_ud-test.conllu\", \"w\", encoding=\"utf-8\") as new_file:\n",
    "    for line in test_data_ja:\n",
    "        new_file.write(line+\"\\n\")\n",
    "with open(\"vi_ud-test.conllu\", \"w\", encoding=\"utf-8\") as new_file:\n",
    "    for line in test_data_vi:\n",
    "        new_file.write(line+\"\\n\")\n",
    "with open(\"en_ud-dev.conllu\", \"w\", encoding=\"utf-8\") as new_file:\n",
    "    for line in dev_data_en:\n",
    "        new_file.write(line+\"\\n\")\n",
    "with open(\"ja_ud-dev.conllu\", \"w\", encoding=\"utf-8\") as new_file:\n",
    "    for line in dev_data_ja:\n",
    "        new_file.write(line+\"\\n\")\n",
    "with open(\"vi_ud-dev.conllu\", \"w\", encoding=\"utf-8\") as new_file:\n",
    "    for line in dev_data_vi:\n",
    "        new_file.write(line+\"\\n\")"
   ]
  },
  {
   "cell_type": "markdown",
   "metadata": {},
   "source": [
    "Next the different datasets have to be sorted into the different folders for the different models, depending on the proportions required for the specific model. For examle let's take the 'ultimate_en33_ja33_vi33' model:\n",
    "1. under udapter/data create the folder 'ud-treebanks-v2.3_ultimate_en33_ja33_vi33' (first part is just to stick with the naming of the original udapter code)\n",
    "2. in this folder create the 3 folders 'UD_English-EWT', 'UD_Japanese-GSD' and 'UD_Vietnamese-VTB'\n",
    "3. In each folder put the matching train, dev and test set.\n",
    "4. Now copy the folders to get the correct proportions. So in this case there should be one folder for English, two for Japanese and 10 for Vietnamese. Make sure to delete the dev and test set from the copied folders (we want the dev and test set to be the same)\n",
    "\n",
    "After organizing the folders, run the concat_ud_data.sh (found under scripts) in a git bash (scripts/concat_ud_data.sh --add_lang_id). Under udapter/data/ud you can now find the datasets for the different models. For our example the folder is named 'multilingual_ultimate_en33_ja33_vi33'"
   ]
  },
  {
   "cell_type": "markdown",
   "metadata": {},
   "source": [
    "Next the config files had to be adapted, depending on the model the number of epochs has to be changed and for each model the paths to the training, dev and test data have to be ajusted. The config files for all the models can be found under config/ud/name_of_the_specific_model (For our example from above it would be under config/ud/multilingual_ultimate_en33_ja33_vi33). "
   ]
  },
  {
   "cell_type": "markdown",
   "metadata": {},
   "source": [
    "Now the models can be run. To run a model use the command \"python train.py --config config/ud/name_of_model/udapter-test.json --name udapter\" (For our example from above it would be under \"python train.py --config config/ud/multilingual_ultimate_en33_ja33_vi33/udapter-test.json --name udapter\"). "
   ]
  },
  {
   "cell_type": "markdown",
   "metadata": {},
   "source": [
    "Let us look at the results of the models trained on a 100/400 sentences per language:"
   ]
  },
  {
   "cell_type": "code",
   "execution_count": 6,
   "metadata": {},
   "outputs": [],
   "source": [
    "import json\n",
    "import plotly.graph_objects as go\n",
    "\n",
    "file_path_ultimate_en33_ja33_vi33 = \"logs/udapter/2024.06.12_22.28.41_ultimate_en33_ja33_vi33\"\n",
    "file_path_ultimate_en50_ja25_vi25 = \"logs/udapter/2024.06.14_09.49.50_ultimate_en50_ja25_vi25\"\n",
    "file_path_ultimate_en33_ja50_vi17 = \"logs/udapter/2024.06.16_00.52.40_ultimate_en33_ja50_vi17\"\n",
    "file_path_ultimate_en33_ja17_vi50 = \"logs/udapter/2024.06.17_18.59.22_ultimate_en33_ja17_vi50\""
   ]
  },
  {
   "cell_type": "markdown",
   "metadata": {},
   "source": [
    "Now lets look at the performance of the 4 \"ultimate\" models. We are interested in their LAS scores, so let's see how they compare and how they improved over time:"
   ]
  },
  {
   "cell_type": "code",
   "execution_count": 7,
   "metadata": {},
   "outputs": [],
   "source": [
    "file_path_ultimate_en33_ja33_vi33 = \"logs/udapter/2024.06.12_22.28.41_ultimate_en33_ja33_vi33\"\n",
    "file_path_ultimate_en50_ja25_vi25 = \"logs/udapter/2024.06.14_09.49.50_ultimate_en50_ja25_vi25\"\n",
    "file_path_ultimate_en33_ja50_vi17 = \"logs/udapter/2024.06.16_00.52.40_ultimate_en33_ja50_vi17\"\n",
    "file_path_ultimate_en33_ja17_vi50 = \"logs/udapter/2024.06.17_18.59.22_ultimate_en33_ja17_vi50\"\n",
    "\n",
    "data_ultimate_en33_ja33_vi33 = {}\n",
    "for i in range(10):\n",
    "    f = open(file_path_ultimate_en33_ja33_vi33+\"/metrics_epoch_\"+str(i)+\".json\")\n",
    "    data = json.load(f)\n",
    "    f.close()\n",
    "    data_ultimate_en33_ja33_vi33[(i+1)*36000] = [data[\"training_.run/deps/LAS\"], data[\"validation_.run/deps/LAS\"]]\n",
    "\n",
    "data_ultimate_en50_ja25_vi25 = {}\n",
    "for i in range(15):\n",
    "    f = open(file_path_ultimate_en50_ja25_vi25+\"/metrics_epoch_\"+str(i)+\".json\")\n",
    "    data = json.load(f)\n",
    "    f.close()\n",
    "    data_ultimate_en50_ja25_vi25[(i+1)*24000] = [data[\"training_.run/deps/LAS\"], data[\"validation_.run/deps/LAS\"]]\n",
    "\n",
    "data_ultimate_en33_ja50_vi17 = {}\n",
    "for i in range(10):\n",
    "    f = open(file_path_ultimate_en33_ja50_vi17+\"/metrics_epoch_\"+str(i)+\".json\")\n",
    "    data = json.load(f)\n",
    "    f.close()\n",
    "    data_ultimate_en33_ja50_vi17[(i+1)*36000] = [data[\"training_.run/deps/LAS\"], data[\"validation_.run/deps/LAS\"]]\n",
    "\n",
    "data_ultimate_en33_ja17_vi50 = {}\n",
    "for i in range(10):\n",
    "    f = open(file_path_ultimate_en33_ja17_vi50+\"/metrics_epoch_\"+str(i)+\".json\")\n",
    "    data = json.load(f)\n",
    "    f.close()\n",
    "    data_ultimate_en33_ja17_vi50[(i+1)*36000] = [data[\"training_.run/deps/LAS\"], data[\"validation_.run/deps/LAS\"]]"
   ]
  },
  {
   "cell_type": "code",
   "execution_count": 132,
   "metadata": {},
   "outputs": [
    {
     "data": {
      "application/vnd.plotly.v1+json": {
       "config": {
        "plotlyServerURL": "https://plot.ly"
       },
       "data": [
        {
         "line": {
          "color": "darkslategray",
          "width": 1
         },
         "name": "Ultimate_en33_ja33_vi33",
         "type": "scatter",
         "x": [
          36000,
          72000,
          108000,
          144000,
          180000,
          216000,
          252000,
          288000,
          324000,
          360000
         ],
         "y": [
          0.0002134775492777343,
          0.0002134775492777343,
          0.11100832562442182,
          0.3698142745321284,
          0.6520671742688394,
          0.7108446595033089,
          0.7513698142745321,
          0.7733224222585925,
          0.7960577812566711,
          0.80182167508717
         ]
        },
        {
         "line": {
          "color": "darkslategray",
          "dash": "dot",
          "width": 1
         },
         "name": "Ultimate_en33_ja33_vi33",
         "type": "scatter",
         "x": [
          36000,
          72000,
          108000,
          144000,
          180000,
          216000,
          252000,
          288000,
          324000,
          360000
         ],
         "y": [
          0.00023516353272065395,
          0.00015364017471082724,
          0.014108244206354432,
          0.20671344853210924,
          0.43572510323679087,
          0.54359304793887,
          0.5856261777773597,
          0.6126825260953134,
          0.6361298980644473,
          0.6574012234774729
         ]
        },
        {
         "line": {
          "color": "steelblue",
          "width": 1
         },
         "name": "Ultimate_en50_ja25_vi25",
         "type": "scatter",
         "x": [
          24000,
          48000,
          72000,
          96000,
          120000,
          144000,
          168000,
          192000,
          216000,
          240000,
          264000,
          288000,
          312000,
          336000,
          360000
         ],
         "y": [
          0.0002134775492777343,
          0.0002134775492777343,
          0.00024905714082402335,
          0.008467942788016793,
          0.2429730306696079,
          0.4685476410730805,
          0.5996228563296093,
          0.6833772148295738,
          0.7240802675585284,
          0.7645698427382054,
          0.7591617448231694,
          0.7846011527787661,
          0.7924998221020423,
          0.7947413363694584,
          0.793709528214616
         ]
        },
        {
         "line": {
          "color": "steelblue",
          "dash": "dot",
          "width": 1
         },
         "name": "Ultimate_en50_ja25_vi25",
         "type": "scatter",
         "x": [
          24000,
          48000,
          72000,
          96000,
          120000,
          144000,
          168000,
          192000,
          216000,
          240000,
          264000,
          288000,
          312000,
          336000,
          360000
         ],
         "y": [
          0.00029529189483767346,
          0.00012003735562507052,
          0.00009362913738755501,
          0.0004393367215877581,
          0.09386921209880515,
          0.268888478094383,
          0.42778192573528884,
          0.507263460388873,
          0.5513291736388364,
          0.581415336452704,
          0.6013007247855533,
          0.6132372394289103,
          0.6324840290298341,
          0.6463603473400923,
          0.6567411778545483
         ]
        },
        {
         "line": {
          "color": "yellowgreen",
          "width": 1
         },
         "name": "Ultimate_en33_ja50_vi17",
         "type": "scatter",
         "x": [
          36000,
          72000,
          108000,
          144000,
          180000,
          216000,
          252000,
          288000,
          324000,
          360000
         ],
         "y": [
          0.00010673877463886715,
          0.0000711591830925781,
          0.09553120330178609,
          0.4323987760620508,
          0.653490357930691,
          0.6877890841813136,
          0.7512630754998932,
          0.7743186508218886,
          0.7855262221589696,
          0.8036006546644845
         ]
        },
        {
         "line": {
          "color": "yellowgreen",
          "dash": "dot",
          "width": 1
         },
         "name": "Ultimate_en33_ja50_vi17",
         "type": "scatter",
         "x": [
          36000,
          72000,
          108000,
          144000,
          180000,
          216000,
          252000,
          288000,
          324000,
          360000
         ],
         "y": [
          0.0001487051715868154,
          0.00010788414409239549,
          0.010660119751399943,
          0.2695587392717237,
          0.48066905664063353,
          0.5797329430065562,
          0.6226489639477433,
          0.6463499440897713,
          0.6703045977598003,
          0.6883168761417131
         ]
        },
        {
         "line": {
          "color": "gold",
          "width": 1
         },
         "name": "Ultimate_en33_ja17_vi50",
         "type": "scatter",
         "x": [
          36000,
          72000,
          108000,
          144000,
          180000,
          216000,
          252000,
          288000,
          324000,
          360000
         ],
         "y": [
          0.0038425958869992174,
          0.004660926492563866,
          0.07870205650039137,
          0.42965914751298656,
          0.5313456201522807,
          0.6799259944495837,
          0.7081406105457909,
          0.766740197822529,
          0.7836760833985625,
          0.7918949690457554
         ]
        },
        {
         "line": {
          "color": "gold",
          "dash": "dot",
          "width": 1
         },
         "name": "Ultimate_en33_ja17_vi50",
         "type": "scatter",
         "x": [
          36000,
          72000,
          108000,
          144000,
          180000,
          216000,
          252000,
          288000,
          324000,
          360000
         ],
         "y": [
          0.0011953467946902866,
          0.00037810260314316866,
          0.014886730294157043,
          0.22332638732288096,
          0.41614175965221345,
          0.4998431637184272,
          0.5470500367081675,
          0.5785868457595709,
          0.6052117120248497,
          0.6264532788956013
         ]
        }
       ],
       "layout": {
        "template": {
         "data": {
          "bar": [
           {
            "error_x": {
             "color": "#2a3f5f"
            },
            "error_y": {
             "color": "#2a3f5f"
            },
            "marker": {
             "line": {
              "color": "#E5ECF6",
              "width": 0.5
             },
             "pattern": {
              "fillmode": "overlay",
              "size": 10,
              "solidity": 0.2
             }
            },
            "type": "bar"
           }
          ],
          "barpolar": [
           {
            "marker": {
             "line": {
              "color": "#E5ECF6",
              "width": 0.5
             },
             "pattern": {
              "fillmode": "overlay",
              "size": 10,
              "solidity": 0.2
             }
            },
            "type": "barpolar"
           }
          ],
          "carpet": [
           {
            "aaxis": {
             "endlinecolor": "#2a3f5f",
             "gridcolor": "white",
             "linecolor": "white",
             "minorgridcolor": "white",
             "startlinecolor": "#2a3f5f"
            },
            "baxis": {
             "endlinecolor": "#2a3f5f",
             "gridcolor": "white",
             "linecolor": "white",
             "minorgridcolor": "white",
             "startlinecolor": "#2a3f5f"
            },
            "type": "carpet"
           }
          ],
          "choropleth": [
           {
            "colorbar": {
             "outlinewidth": 0,
             "ticks": ""
            },
            "type": "choropleth"
           }
          ],
          "contour": [
           {
            "colorbar": {
             "outlinewidth": 0,
             "ticks": ""
            },
            "colorscale": [
             [
              0,
              "#0d0887"
             ],
             [
              0.1111111111111111,
              "#46039f"
             ],
             [
              0.2222222222222222,
              "#7201a8"
             ],
             [
              0.3333333333333333,
              "#9c179e"
             ],
             [
              0.4444444444444444,
              "#bd3786"
             ],
             [
              0.5555555555555556,
              "#d8576b"
             ],
             [
              0.6666666666666666,
              "#ed7953"
             ],
             [
              0.7777777777777778,
              "#fb9f3a"
             ],
             [
              0.8888888888888888,
              "#fdca26"
             ],
             [
              1,
              "#f0f921"
             ]
            ],
            "type": "contour"
           }
          ],
          "contourcarpet": [
           {
            "colorbar": {
             "outlinewidth": 0,
             "ticks": ""
            },
            "type": "contourcarpet"
           }
          ],
          "heatmap": [
           {
            "colorbar": {
             "outlinewidth": 0,
             "ticks": ""
            },
            "colorscale": [
             [
              0,
              "#0d0887"
             ],
             [
              0.1111111111111111,
              "#46039f"
             ],
             [
              0.2222222222222222,
              "#7201a8"
             ],
             [
              0.3333333333333333,
              "#9c179e"
             ],
             [
              0.4444444444444444,
              "#bd3786"
             ],
             [
              0.5555555555555556,
              "#d8576b"
             ],
             [
              0.6666666666666666,
              "#ed7953"
             ],
             [
              0.7777777777777778,
              "#fb9f3a"
             ],
             [
              0.8888888888888888,
              "#fdca26"
             ],
             [
              1,
              "#f0f921"
             ]
            ],
            "type": "heatmap"
           }
          ],
          "heatmapgl": [
           {
            "colorbar": {
             "outlinewidth": 0,
             "ticks": ""
            },
            "colorscale": [
             [
              0,
              "#0d0887"
             ],
             [
              0.1111111111111111,
              "#46039f"
             ],
             [
              0.2222222222222222,
              "#7201a8"
             ],
             [
              0.3333333333333333,
              "#9c179e"
             ],
             [
              0.4444444444444444,
              "#bd3786"
             ],
             [
              0.5555555555555556,
              "#d8576b"
             ],
             [
              0.6666666666666666,
              "#ed7953"
             ],
             [
              0.7777777777777778,
              "#fb9f3a"
             ],
             [
              0.8888888888888888,
              "#fdca26"
             ],
             [
              1,
              "#f0f921"
             ]
            ],
            "type": "heatmapgl"
           }
          ],
          "histogram": [
           {
            "marker": {
             "pattern": {
              "fillmode": "overlay",
              "size": 10,
              "solidity": 0.2
             }
            },
            "type": "histogram"
           }
          ],
          "histogram2d": [
           {
            "colorbar": {
             "outlinewidth": 0,
             "ticks": ""
            },
            "colorscale": [
             [
              0,
              "#0d0887"
             ],
             [
              0.1111111111111111,
              "#46039f"
             ],
             [
              0.2222222222222222,
              "#7201a8"
             ],
             [
              0.3333333333333333,
              "#9c179e"
             ],
             [
              0.4444444444444444,
              "#bd3786"
             ],
             [
              0.5555555555555556,
              "#d8576b"
             ],
             [
              0.6666666666666666,
              "#ed7953"
             ],
             [
              0.7777777777777778,
              "#fb9f3a"
             ],
             [
              0.8888888888888888,
              "#fdca26"
             ],
             [
              1,
              "#f0f921"
             ]
            ],
            "type": "histogram2d"
           }
          ],
          "histogram2dcontour": [
           {
            "colorbar": {
             "outlinewidth": 0,
             "ticks": ""
            },
            "colorscale": [
             [
              0,
              "#0d0887"
             ],
             [
              0.1111111111111111,
              "#46039f"
             ],
             [
              0.2222222222222222,
              "#7201a8"
             ],
             [
              0.3333333333333333,
              "#9c179e"
             ],
             [
              0.4444444444444444,
              "#bd3786"
             ],
             [
              0.5555555555555556,
              "#d8576b"
             ],
             [
              0.6666666666666666,
              "#ed7953"
             ],
             [
              0.7777777777777778,
              "#fb9f3a"
             ],
             [
              0.8888888888888888,
              "#fdca26"
             ],
             [
              1,
              "#f0f921"
             ]
            ],
            "type": "histogram2dcontour"
           }
          ],
          "mesh3d": [
           {
            "colorbar": {
             "outlinewidth": 0,
             "ticks": ""
            },
            "type": "mesh3d"
           }
          ],
          "parcoords": [
           {
            "line": {
             "colorbar": {
              "outlinewidth": 0,
              "ticks": ""
             }
            },
            "type": "parcoords"
           }
          ],
          "pie": [
           {
            "automargin": true,
            "type": "pie"
           }
          ],
          "scatter": [
           {
            "fillpattern": {
             "fillmode": "overlay",
             "size": 10,
             "solidity": 0.2
            },
            "type": "scatter"
           }
          ],
          "scatter3d": [
           {
            "line": {
             "colorbar": {
              "outlinewidth": 0,
              "ticks": ""
             }
            },
            "marker": {
             "colorbar": {
              "outlinewidth": 0,
              "ticks": ""
             }
            },
            "type": "scatter3d"
           }
          ],
          "scattercarpet": [
           {
            "marker": {
             "colorbar": {
              "outlinewidth": 0,
              "ticks": ""
             }
            },
            "type": "scattercarpet"
           }
          ],
          "scattergeo": [
           {
            "marker": {
             "colorbar": {
              "outlinewidth": 0,
              "ticks": ""
             }
            },
            "type": "scattergeo"
           }
          ],
          "scattergl": [
           {
            "marker": {
             "colorbar": {
              "outlinewidth": 0,
              "ticks": ""
             }
            },
            "type": "scattergl"
           }
          ],
          "scattermapbox": [
           {
            "marker": {
             "colorbar": {
              "outlinewidth": 0,
              "ticks": ""
             }
            },
            "type": "scattermapbox"
           }
          ],
          "scatterpolar": [
           {
            "marker": {
             "colorbar": {
              "outlinewidth": 0,
              "ticks": ""
             }
            },
            "type": "scatterpolar"
           }
          ],
          "scatterpolargl": [
           {
            "marker": {
             "colorbar": {
              "outlinewidth": 0,
              "ticks": ""
             }
            },
            "type": "scatterpolargl"
           }
          ],
          "scatterternary": [
           {
            "marker": {
             "colorbar": {
              "outlinewidth": 0,
              "ticks": ""
             }
            },
            "type": "scatterternary"
           }
          ],
          "surface": [
           {
            "colorbar": {
             "outlinewidth": 0,
             "ticks": ""
            },
            "colorscale": [
             [
              0,
              "#0d0887"
             ],
             [
              0.1111111111111111,
              "#46039f"
             ],
             [
              0.2222222222222222,
              "#7201a8"
             ],
             [
              0.3333333333333333,
              "#9c179e"
             ],
             [
              0.4444444444444444,
              "#bd3786"
             ],
             [
              0.5555555555555556,
              "#d8576b"
             ],
             [
              0.6666666666666666,
              "#ed7953"
             ],
             [
              0.7777777777777778,
              "#fb9f3a"
             ],
             [
              0.8888888888888888,
              "#fdca26"
             ],
             [
              1,
              "#f0f921"
             ]
            ],
            "type": "surface"
           }
          ],
          "table": [
           {
            "cells": {
             "fill": {
              "color": "#EBF0F8"
             },
             "line": {
              "color": "white"
             }
            },
            "header": {
             "fill": {
              "color": "#C8D4E3"
             },
             "line": {
              "color": "white"
             }
            },
            "type": "table"
           }
          ]
         },
         "layout": {
          "annotationdefaults": {
           "arrowcolor": "#2a3f5f",
           "arrowhead": 0,
           "arrowwidth": 1
          },
          "autotypenumbers": "strict",
          "coloraxis": {
           "colorbar": {
            "outlinewidth": 0,
            "ticks": ""
           }
          },
          "colorscale": {
           "diverging": [
            [
             0,
             "#8e0152"
            ],
            [
             0.1,
             "#c51b7d"
            ],
            [
             0.2,
             "#de77ae"
            ],
            [
             0.3,
             "#f1b6da"
            ],
            [
             0.4,
             "#fde0ef"
            ],
            [
             0.5,
             "#f7f7f7"
            ],
            [
             0.6,
             "#e6f5d0"
            ],
            [
             0.7,
             "#b8e186"
            ],
            [
             0.8,
             "#7fbc41"
            ],
            [
             0.9,
             "#4d9221"
            ],
            [
             1,
             "#276419"
            ]
           ],
           "sequential": [
            [
             0,
             "#0d0887"
            ],
            [
             0.1111111111111111,
             "#46039f"
            ],
            [
             0.2222222222222222,
             "#7201a8"
            ],
            [
             0.3333333333333333,
             "#9c179e"
            ],
            [
             0.4444444444444444,
             "#bd3786"
            ],
            [
             0.5555555555555556,
             "#d8576b"
            ],
            [
             0.6666666666666666,
             "#ed7953"
            ],
            [
             0.7777777777777778,
             "#fb9f3a"
            ],
            [
             0.8888888888888888,
             "#fdca26"
            ],
            [
             1,
             "#f0f921"
            ]
           ],
           "sequentialminus": [
            [
             0,
             "#0d0887"
            ],
            [
             0.1111111111111111,
             "#46039f"
            ],
            [
             0.2222222222222222,
             "#7201a8"
            ],
            [
             0.3333333333333333,
             "#9c179e"
            ],
            [
             0.4444444444444444,
             "#bd3786"
            ],
            [
             0.5555555555555556,
             "#d8576b"
            ],
            [
             0.6666666666666666,
             "#ed7953"
            ],
            [
             0.7777777777777778,
             "#fb9f3a"
            ],
            [
             0.8888888888888888,
             "#fdca26"
            ],
            [
             1,
             "#f0f921"
            ]
           ]
          },
          "colorway": [
           "#636efa",
           "#EF553B",
           "#00cc96",
           "#ab63fa",
           "#FFA15A",
           "#19d3f3",
           "#FF6692",
           "#B6E880",
           "#FF97FF",
           "#FECB52"
          ],
          "font": {
           "color": "#2a3f5f"
          },
          "geo": {
           "bgcolor": "white",
           "lakecolor": "white",
           "landcolor": "#E5ECF6",
           "showlakes": true,
           "showland": true,
           "subunitcolor": "white"
          },
          "hoverlabel": {
           "align": "left"
          },
          "hovermode": "closest",
          "mapbox": {
           "style": "light"
          },
          "paper_bgcolor": "white",
          "plot_bgcolor": "#E5ECF6",
          "polar": {
           "angularaxis": {
            "gridcolor": "white",
            "linecolor": "white",
            "ticks": ""
           },
           "bgcolor": "#E5ECF6",
           "radialaxis": {
            "gridcolor": "white",
            "linecolor": "white",
            "ticks": ""
           }
          },
          "scene": {
           "xaxis": {
            "backgroundcolor": "#E5ECF6",
            "gridcolor": "white",
            "gridwidth": 2,
            "linecolor": "white",
            "showbackground": true,
            "ticks": "",
            "zerolinecolor": "white"
           },
           "yaxis": {
            "backgroundcolor": "#E5ECF6",
            "gridcolor": "white",
            "gridwidth": 2,
            "linecolor": "white",
            "showbackground": true,
            "ticks": "",
            "zerolinecolor": "white"
           },
           "zaxis": {
            "backgroundcolor": "#E5ECF6",
            "gridcolor": "white",
            "gridwidth": 2,
            "linecolor": "white",
            "showbackground": true,
            "ticks": "",
            "zerolinecolor": "white"
           }
          },
          "shapedefaults": {
           "line": {
            "color": "#2a3f5f"
           }
          },
          "ternary": {
           "aaxis": {
            "gridcolor": "white",
            "linecolor": "white",
            "ticks": ""
           },
           "baxis": {
            "gridcolor": "white",
            "linecolor": "white",
            "ticks": ""
           },
           "bgcolor": "#E5ECF6",
           "caxis": {
            "gridcolor": "white",
            "linecolor": "white",
            "ticks": ""
           }
          },
          "title": {
           "x": 0.05
          },
          "xaxis": {
           "automargin": true,
           "gridcolor": "white",
           "linecolor": "white",
           "ticks": "",
           "title": {
            "standoff": 15
           },
           "zerolinecolor": "white",
           "zerolinewidth": 2
          },
          "yaxis": {
           "automargin": true,
           "gridcolor": "white",
           "linecolor": "white",
           "ticks": "",
           "title": {
            "standoff": 15
           },
           "zerolinecolor": "white",
           "zerolinewidth": 2
          }
         }
        }
       }
      }
     },
     "metadata": {},
     "output_type": "display_data"
    }
   ],
   "source": [
    "fig = go.Figure()\n",
    "fig.add_trace(go.Scatter(x=list(data_ultimate_en33_ja33_vi33.keys()), y= [x[1] for x in data_ultimate_en33_ja33_vi33.values()], name='Ultimate_en33_ja33_vi33',\n",
    "                         line=dict(color='darkslategray', width=1)))\n",
    "fig.add_trace(go.Scatter(x=list(data_ultimate_en33_ja33_vi33.keys()), y= [x[0] for x in data_ultimate_en33_ja33_vi33.values()], name='Ultimate_en33_ja33_vi33',\n",
    "                         line=dict(color='darkslategray', width=1, dash='dot')))\n",
    "fig.add_trace(go.Scatter(x=list(data_ultimate_en50_ja25_vi25.keys()), y= [x[1] for x in data_ultimate_en50_ja25_vi25.values()], name = 'Ultimate_en50_ja25_vi25',\n",
    "                         line=dict(color='steelblue', width=1)))\n",
    "fig.add_trace(go.Scatter(x=list(data_ultimate_en50_ja25_vi25.keys()), y= [x[0] for x in data_ultimate_en50_ja25_vi25.values()], name = 'Ultimate_en50_ja25_vi25',\n",
    "                         line=dict(color='steelblue', width=1, dash= 'dot')))\n",
    "fig.add_trace(go.Scatter(x=list(data_ultimate_en33_ja50_vi17.keys()), y= [x[1] for x in data_ultimate_en33_ja50_vi17.values()], name = 'Ultimate_en33_ja50_vi17',\n",
    "                         line=dict(color='yellowgreen', width=1)))\n",
    "fig.add_trace(go.Scatter(x=list(data_ultimate_en33_ja50_vi17.keys()), y= [x[0] for x in data_ultimate_en33_ja50_vi17.values()], name = 'Ultimate_en33_ja50_vi17',\n",
    "                         line=dict(color='yellowgreen', width=1, dash = 'dot')))\n",
    "fig.add_trace(go.Scatter(x=list(data_ultimate_en33_ja17_vi50.keys()), y= [x[1] for x in data_ultimate_en33_ja17_vi50.values()], name = 'Ultimate_en33_ja17_vi50',\n",
    "                         line=dict(color='gold', width=1)))\n",
    "fig.add_trace(go.Scatter(x=list(data_ultimate_en33_ja17_vi50.keys()), y= [x[0] for x in data_ultimate_en33_ja17_vi50.values()], name = 'Ultimate_en33_ja17_vi50',\n",
    "                         line=dict(color='gold', width=1, dash = 'dot')))"
   ]
  },
  {
   "cell_type": "markdown",
   "metadata": {},
   "source": [
    "Let's see how well the ultimate models perform (dev and test set)"
   ]
  },
  {
   "cell_type": "code",
   "execution_count": 8,
   "metadata": {},
   "outputs": [
    {
     "data": {
      "application/vnd.plotly.v1+json": {
       "config": {
        "plotlyServerURL": "https://plot.ly"
       },
       "data": [
        {
         "marker": {
          "color": "maroon"
         },
         "name": "dev set",
         "type": "bar",
         "x": [
          "en33_ja33_vi33",
          "en50_ja25_vi25",
          "en33_ja50_vi17",
          "en33_ja17_vi50"
         ],
         "y": [
          0.8037785526222159,
          0.7963779975805878,
          0.8045613036362342,
          0.7926421404682275
         ]
        },
        {
         "marker": {
          "color": "plum"
         },
         "name": "test set",
         "type": "bar",
         "x": [
          "en33_ja33_vi33",
          "en50_ja25_vi25",
          "en33_ja50_vi17",
          "en33_ja17_vi50"
         ],
         "y": [
          0.7879135864494365,
          0.7762147419794732,
          0.7875188401636403,
          0.7785114476422881
         ]
        }
       ],
       "layout": {
        "barmode": "group",
        "template": {
         "data": {
          "bar": [
           {
            "error_x": {
             "color": "#2a3f5f"
            },
            "error_y": {
             "color": "#2a3f5f"
            },
            "marker": {
             "line": {
              "color": "#E5ECF6",
              "width": 0.5
             },
             "pattern": {
              "fillmode": "overlay",
              "size": 10,
              "solidity": 0.2
             }
            },
            "type": "bar"
           }
          ],
          "barpolar": [
           {
            "marker": {
             "line": {
              "color": "#E5ECF6",
              "width": 0.5
             },
             "pattern": {
              "fillmode": "overlay",
              "size": 10,
              "solidity": 0.2
             }
            },
            "type": "barpolar"
           }
          ],
          "carpet": [
           {
            "aaxis": {
             "endlinecolor": "#2a3f5f",
             "gridcolor": "white",
             "linecolor": "white",
             "minorgridcolor": "white",
             "startlinecolor": "#2a3f5f"
            },
            "baxis": {
             "endlinecolor": "#2a3f5f",
             "gridcolor": "white",
             "linecolor": "white",
             "minorgridcolor": "white",
             "startlinecolor": "#2a3f5f"
            },
            "type": "carpet"
           }
          ],
          "choropleth": [
           {
            "colorbar": {
             "outlinewidth": 0,
             "ticks": ""
            },
            "type": "choropleth"
           }
          ],
          "contour": [
           {
            "colorbar": {
             "outlinewidth": 0,
             "ticks": ""
            },
            "colorscale": [
             [
              0,
              "#0d0887"
             ],
             [
              0.1111111111111111,
              "#46039f"
             ],
             [
              0.2222222222222222,
              "#7201a8"
             ],
             [
              0.3333333333333333,
              "#9c179e"
             ],
             [
              0.4444444444444444,
              "#bd3786"
             ],
             [
              0.5555555555555556,
              "#d8576b"
             ],
             [
              0.6666666666666666,
              "#ed7953"
             ],
             [
              0.7777777777777778,
              "#fb9f3a"
             ],
             [
              0.8888888888888888,
              "#fdca26"
             ],
             [
              1,
              "#f0f921"
             ]
            ],
            "type": "contour"
           }
          ],
          "contourcarpet": [
           {
            "colorbar": {
             "outlinewidth": 0,
             "ticks": ""
            },
            "type": "contourcarpet"
           }
          ],
          "heatmap": [
           {
            "colorbar": {
             "outlinewidth": 0,
             "ticks": ""
            },
            "colorscale": [
             [
              0,
              "#0d0887"
             ],
             [
              0.1111111111111111,
              "#46039f"
             ],
             [
              0.2222222222222222,
              "#7201a8"
             ],
             [
              0.3333333333333333,
              "#9c179e"
             ],
             [
              0.4444444444444444,
              "#bd3786"
             ],
             [
              0.5555555555555556,
              "#d8576b"
             ],
             [
              0.6666666666666666,
              "#ed7953"
             ],
             [
              0.7777777777777778,
              "#fb9f3a"
             ],
             [
              0.8888888888888888,
              "#fdca26"
             ],
             [
              1,
              "#f0f921"
             ]
            ],
            "type": "heatmap"
           }
          ],
          "heatmapgl": [
           {
            "colorbar": {
             "outlinewidth": 0,
             "ticks": ""
            },
            "colorscale": [
             [
              0,
              "#0d0887"
             ],
             [
              0.1111111111111111,
              "#46039f"
             ],
             [
              0.2222222222222222,
              "#7201a8"
             ],
             [
              0.3333333333333333,
              "#9c179e"
             ],
             [
              0.4444444444444444,
              "#bd3786"
             ],
             [
              0.5555555555555556,
              "#d8576b"
             ],
             [
              0.6666666666666666,
              "#ed7953"
             ],
             [
              0.7777777777777778,
              "#fb9f3a"
             ],
             [
              0.8888888888888888,
              "#fdca26"
             ],
             [
              1,
              "#f0f921"
             ]
            ],
            "type": "heatmapgl"
           }
          ],
          "histogram": [
           {
            "marker": {
             "pattern": {
              "fillmode": "overlay",
              "size": 10,
              "solidity": 0.2
             }
            },
            "type": "histogram"
           }
          ],
          "histogram2d": [
           {
            "colorbar": {
             "outlinewidth": 0,
             "ticks": ""
            },
            "colorscale": [
             [
              0,
              "#0d0887"
             ],
             [
              0.1111111111111111,
              "#46039f"
             ],
             [
              0.2222222222222222,
              "#7201a8"
             ],
             [
              0.3333333333333333,
              "#9c179e"
             ],
             [
              0.4444444444444444,
              "#bd3786"
             ],
             [
              0.5555555555555556,
              "#d8576b"
             ],
             [
              0.6666666666666666,
              "#ed7953"
             ],
             [
              0.7777777777777778,
              "#fb9f3a"
             ],
             [
              0.8888888888888888,
              "#fdca26"
             ],
             [
              1,
              "#f0f921"
             ]
            ],
            "type": "histogram2d"
           }
          ],
          "histogram2dcontour": [
           {
            "colorbar": {
             "outlinewidth": 0,
             "ticks": ""
            },
            "colorscale": [
             [
              0,
              "#0d0887"
             ],
             [
              0.1111111111111111,
              "#46039f"
             ],
             [
              0.2222222222222222,
              "#7201a8"
             ],
             [
              0.3333333333333333,
              "#9c179e"
             ],
             [
              0.4444444444444444,
              "#bd3786"
             ],
             [
              0.5555555555555556,
              "#d8576b"
             ],
             [
              0.6666666666666666,
              "#ed7953"
             ],
             [
              0.7777777777777778,
              "#fb9f3a"
             ],
             [
              0.8888888888888888,
              "#fdca26"
             ],
             [
              1,
              "#f0f921"
             ]
            ],
            "type": "histogram2dcontour"
           }
          ],
          "mesh3d": [
           {
            "colorbar": {
             "outlinewidth": 0,
             "ticks": ""
            },
            "type": "mesh3d"
           }
          ],
          "parcoords": [
           {
            "line": {
             "colorbar": {
              "outlinewidth": 0,
              "ticks": ""
             }
            },
            "type": "parcoords"
           }
          ],
          "pie": [
           {
            "automargin": true,
            "type": "pie"
           }
          ],
          "scatter": [
           {
            "fillpattern": {
             "fillmode": "overlay",
             "size": 10,
             "solidity": 0.2
            },
            "type": "scatter"
           }
          ],
          "scatter3d": [
           {
            "line": {
             "colorbar": {
              "outlinewidth": 0,
              "ticks": ""
             }
            },
            "marker": {
             "colorbar": {
              "outlinewidth": 0,
              "ticks": ""
             }
            },
            "type": "scatter3d"
           }
          ],
          "scattercarpet": [
           {
            "marker": {
             "colorbar": {
              "outlinewidth": 0,
              "ticks": ""
             }
            },
            "type": "scattercarpet"
           }
          ],
          "scattergeo": [
           {
            "marker": {
             "colorbar": {
              "outlinewidth": 0,
              "ticks": ""
             }
            },
            "type": "scattergeo"
           }
          ],
          "scattergl": [
           {
            "marker": {
             "colorbar": {
              "outlinewidth": 0,
              "ticks": ""
             }
            },
            "type": "scattergl"
           }
          ],
          "scattermapbox": [
           {
            "marker": {
             "colorbar": {
              "outlinewidth": 0,
              "ticks": ""
             }
            },
            "type": "scattermapbox"
           }
          ],
          "scatterpolar": [
           {
            "marker": {
             "colorbar": {
              "outlinewidth": 0,
              "ticks": ""
             }
            },
            "type": "scatterpolar"
           }
          ],
          "scatterpolargl": [
           {
            "marker": {
             "colorbar": {
              "outlinewidth": 0,
              "ticks": ""
             }
            },
            "type": "scatterpolargl"
           }
          ],
          "scatterternary": [
           {
            "marker": {
             "colorbar": {
              "outlinewidth": 0,
              "ticks": ""
             }
            },
            "type": "scatterternary"
           }
          ],
          "surface": [
           {
            "colorbar": {
             "outlinewidth": 0,
             "ticks": ""
            },
            "colorscale": [
             [
              0,
              "#0d0887"
             ],
             [
              0.1111111111111111,
              "#46039f"
             ],
             [
              0.2222222222222222,
              "#7201a8"
             ],
             [
              0.3333333333333333,
              "#9c179e"
             ],
             [
              0.4444444444444444,
              "#bd3786"
             ],
             [
              0.5555555555555556,
              "#d8576b"
             ],
             [
              0.6666666666666666,
              "#ed7953"
             ],
             [
              0.7777777777777778,
              "#fb9f3a"
             ],
             [
              0.8888888888888888,
              "#fdca26"
             ],
             [
              1,
              "#f0f921"
             ]
            ],
            "type": "surface"
           }
          ],
          "table": [
           {
            "cells": {
             "fill": {
              "color": "#EBF0F8"
             },
             "line": {
              "color": "white"
             }
            },
            "header": {
             "fill": {
              "color": "#C8D4E3"
             },
             "line": {
              "color": "white"
             }
            },
            "type": "table"
           }
          ]
         },
         "layout": {
          "annotationdefaults": {
           "arrowcolor": "#2a3f5f",
           "arrowhead": 0,
           "arrowwidth": 1
          },
          "autotypenumbers": "strict",
          "coloraxis": {
           "colorbar": {
            "outlinewidth": 0,
            "ticks": ""
           }
          },
          "colorscale": {
           "diverging": [
            [
             0,
             "#8e0152"
            ],
            [
             0.1,
             "#c51b7d"
            ],
            [
             0.2,
             "#de77ae"
            ],
            [
             0.3,
             "#f1b6da"
            ],
            [
             0.4,
             "#fde0ef"
            ],
            [
             0.5,
             "#f7f7f7"
            ],
            [
             0.6,
             "#e6f5d0"
            ],
            [
             0.7,
             "#b8e186"
            ],
            [
             0.8,
             "#7fbc41"
            ],
            [
             0.9,
             "#4d9221"
            ],
            [
             1,
             "#276419"
            ]
           ],
           "sequential": [
            [
             0,
             "#0d0887"
            ],
            [
             0.1111111111111111,
             "#46039f"
            ],
            [
             0.2222222222222222,
             "#7201a8"
            ],
            [
             0.3333333333333333,
             "#9c179e"
            ],
            [
             0.4444444444444444,
             "#bd3786"
            ],
            [
             0.5555555555555556,
             "#d8576b"
            ],
            [
             0.6666666666666666,
             "#ed7953"
            ],
            [
             0.7777777777777778,
             "#fb9f3a"
            ],
            [
             0.8888888888888888,
             "#fdca26"
            ],
            [
             1,
             "#f0f921"
            ]
           ],
           "sequentialminus": [
            [
             0,
             "#0d0887"
            ],
            [
             0.1111111111111111,
             "#46039f"
            ],
            [
             0.2222222222222222,
             "#7201a8"
            ],
            [
             0.3333333333333333,
             "#9c179e"
            ],
            [
             0.4444444444444444,
             "#bd3786"
            ],
            [
             0.5555555555555556,
             "#d8576b"
            ],
            [
             0.6666666666666666,
             "#ed7953"
            ],
            [
             0.7777777777777778,
             "#fb9f3a"
            ],
            [
             0.8888888888888888,
             "#fdca26"
            ],
            [
             1,
             "#f0f921"
            ]
           ]
          },
          "colorway": [
           "#636efa",
           "#EF553B",
           "#00cc96",
           "#ab63fa",
           "#FFA15A",
           "#19d3f3",
           "#FF6692",
           "#B6E880",
           "#FF97FF",
           "#FECB52"
          ],
          "font": {
           "color": "#2a3f5f"
          },
          "geo": {
           "bgcolor": "white",
           "lakecolor": "white",
           "landcolor": "#E5ECF6",
           "showlakes": true,
           "showland": true,
           "subunitcolor": "white"
          },
          "hoverlabel": {
           "align": "left"
          },
          "hovermode": "closest",
          "mapbox": {
           "style": "light"
          },
          "paper_bgcolor": "white",
          "plot_bgcolor": "#E5ECF6",
          "polar": {
           "angularaxis": {
            "gridcolor": "white",
            "linecolor": "white",
            "ticks": ""
           },
           "bgcolor": "#E5ECF6",
           "radialaxis": {
            "gridcolor": "white",
            "linecolor": "white",
            "ticks": ""
           }
          },
          "scene": {
           "xaxis": {
            "backgroundcolor": "#E5ECF6",
            "gridcolor": "white",
            "gridwidth": 2,
            "linecolor": "white",
            "showbackground": true,
            "ticks": "",
            "zerolinecolor": "white"
           },
           "yaxis": {
            "backgroundcolor": "#E5ECF6",
            "gridcolor": "white",
            "gridwidth": 2,
            "linecolor": "white",
            "showbackground": true,
            "ticks": "",
            "zerolinecolor": "white"
           },
           "zaxis": {
            "backgroundcolor": "#E5ECF6",
            "gridcolor": "white",
            "gridwidth": 2,
            "linecolor": "white",
            "showbackground": true,
            "ticks": "",
            "zerolinecolor": "white"
           }
          },
          "shapedefaults": {
           "line": {
            "color": "#2a3f5f"
           }
          },
          "ternary": {
           "aaxis": {
            "gridcolor": "white",
            "linecolor": "white",
            "ticks": ""
           },
           "baxis": {
            "gridcolor": "white",
            "linecolor": "white",
            "ticks": ""
           },
           "bgcolor": "#E5ECF6",
           "caxis": {
            "gridcolor": "white",
            "linecolor": "white",
            "ticks": ""
           }
          },
          "title": {
           "x": 0.05
          },
          "xaxis": {
           "automargin": true,
           "gridcolor": "white",
           "linecolor": "white",
           "ticks": "",
           "title": {
            "standoff": 15
           },
           "zerolinecolor": "white",
           "zerolinewidth": 2
          },
          "yaxis": {
           "automargin": true,
           "gridcolor": "white",
           "linecolor": "white",
           "ticks": "",
           "title": {
            "standoff": 15
           },
           "zerolinecolor": "white",
           "zerolinewidth": 2
          }
         }
        },
        "yaxis": {
         "range": [
          0,
          1
         ]
        }
       }
      }
     },
     "metadata": {},
     "output_type": "display_data"
    }
   ],
   "source": [
    "l = [\n",
    "\"logs/udapter/2024.06.12_22.28.41_ultimate_en33_ja33_vi33\",\n",
    "\"logs/udapter/2024.06.14_09.49.50_ultimate_en50_ja25_vi25\",\n",
    "\"logs/udapter/2024.06.16_00.52.40_ultimate_en33_ja50_vi17\",\n",
    "\"logs/udapter/2024.06.17_18.59.22_ultimate_en33_ja17_vi50\"]\n",
    "\n",
    "results_dev_test = []\n",
    "for path in l:\n",
    "    f = open(path+\"/test_results.json\")\n",
    "    data = json.load(f)\n",
    "    f.close()\n",
    "    test_set = data[\"LAS\"][\"precision\"]\n",
    "    f = open(path+\"/dev_results.json\")\n",
    "    data = json.load(f)\n",
    "    f.close()\n",
    "    dev_set = data[\"LAS\"][\"precision\"]\n",
    "    results_dev_test.append([dev_set, test_set])\n",
    "\n",
    "index = [\"en33_ja33_vi33\", \"en50_ja25_vi25\", \"en33_ja50_vi17\", \"en33_ja17_vi50\"]\n",
    "fig = go.Figure(data=[\n",
    "    go.Bar(name='dev set', x=index, y=[d[0] for d in results_dev_test], marker_color = 'maroon'),\n",
    "    go.Bar(name='test set', x=index, y=[d[1] for d in results_dev_test], marker_color = 'plum')\n",
    "])\n",
    "\n",
    "fig.update_layout(barmode='group')\n",
    "fig.update_layout(yaxis_range=[0,1])\n",
    "fig.show()\n"
   ]
  },
  {
   "cell_type": "markdown",
   "metadata": {},
   "source": [
    "Now let's see how well the 4 ultimate models perfom on the test set of the models that were trained on 100 and 400 sentences per language, this test set is called test_small!"
   ]
  },
  {
   "cell_type": "markdown",
   "metadata": {},
   "source": [
    "We have to run the following code from the powershell:\n",
    "\n",
    "python predict.py logs/udapter/2024.06.12_22.28.41_ultimate_en33_ja33_vi33/model.tar.gz data/ud/multilingual_ultimate_en33_ja33_vi33/test_small.conllu output_test_small_ultimate_en33_ja33_vi33.conllu --eval_file results_small_ultimate_en33_ja33_vi33.json ;\n",
    "\n",
    "python predict.py logs/udapter/2024.06.14_09.49.50_ultimate_en50_ja25_vi25/model.tar.gz data/ud/multilingual_ultimate_en50_ja25_vi25/test_small.conllu output_test_small_ultimate_en50_ja25_vi25.conllu --eval_file results_small_ultimate_en50_ja25_vi25.json ;\n",
    "\n",
    "python predict.py logs/udapter/2024.06.16_00.52.40_ultimate_en33_ja50_vi17/model.tar.gz data/ud/multilingual_ultimate_en33_ja50_vi17/test_small.conllu output_test_small_ultimate_en33_ja50_vi17.conllu --eval_file results_small_ultimate_en33_ja50_vi17.json ;\n",
    "\n",
    "python predict.py logs/udapter/2024.06.17_18.59.22_ultimate_en33_ja17_vi50/model.tar.gz data/ud/multilingual_ultimate_en33_ja17_vi50/test_small.conllu output_test_small_ultimate_en33_ja17_vi50.conllu --eval_file results_small_ultimate_en33_ja17_vi50.json"
   ]
  },
  {
   "cell_type": "code",
   "execution_count": 9,
   "metadata": {},
   "outputs": [
    {
     "data": {
      "application/vnd.plotly.v1+json": {
       "config": {
        "plotlyServerURL": "https://plot.ly"
       },
       "data": [
        {
         "marker": {
          "color": "maroon"
         },
         "name": "dev set",
         "type": "bar",
         "x": [
          "en33_ja33_vi33",
          "en50_ja25_vi25",
          "en33_ja50_vi17",
          "en33_ja17_vi50"
         ],
         "y": [
          0.8037785526222159,
          0.7963779975805878,
          0.8045613036362342,
          0.7926421404682275
         ]
        },
        {
         "marker": {
          "color": "plum"
         },
         "name": "test set",
         "type": "bar",
         "x": [
          "en33_ja33_vi33",
          "en50_ja25_vi25",
          "en33_ja50_vi17",
          "en33_ja17_vi50"
         ],
         "y": [
          0.7879135864494365,
          0.7762147419794732,
          0.7875188401636403,
          0.7785114476422881
         ]
        },
        {
         "marker": {
          "color": "pink"
         },
         "name": "small test set",
         "type": "bar",
         "x": [
          "en33_ja33_vi33",
          "en50_ja25_vi25",
          "en33_ja50_vi17",
          "en33_ja17_vi50"
         ],
         "y": [
          0.7988190636862084,
          0.7830029523407844,
          0.8040911008013496,
          0.7821594264023619
         ]
        }
       ],
       "layout": {
        "barmode": "group",
        "template": {
         "data": {
          "bar": [
           {
            "error_x": {
             "color": "#2a3f5f"
            },
            "error_y": {
             "color": "#2a3f5f"
            },
            "marker": {
             "line": {
              "color": "#E5ECF6",
              "width": 0.5
             },
             "pattern": {
              "fillmode": "overlay",
              "size": 10,
              "solidity": 0.2
             }
            },
            "type": "bar"
           }
          ],
          "barpolar": [
           {
            "marker": {
             "line": {
              "color": "#E5ECF6",
              "width": 0.5
             },
             "pattern": {
              "fillmode": "overlay",
              "size": 10,
              "solidity": 0.2
             }
            },
            "type": "barpolar"
           }
          ],
          "carpet": [
           {
            "aaxis": {
             "endlinecolor": "#2a3f5f",
             "gridcolor": "white",
             "linecolor": "white",
             "minorgridcolor": "white",
             "startlinecolor": "#2a3f5f"
            },
            "baxis": {
             "endlinecolor": "#2a3f5f",
             "gridcolor": "white",
             "linecolor": "white",
             "minorgridcolor": "white",
             "startlinecolor": "#2a3f5f"
            },
            "type": "carpet"
           }
          ],
          "choropleth": [
           {
            "colorbar": {
             "outlinewidth": 0,
             "ticks": ""
            },
            "type": "choropleth"
           }
          ],
          "contour": [
           {
            "colorbar": {
             "outlinewidth": 0,
             "ticks": ""
            },
            "colorscale": [
             [
              0,
              "#0d0887"
             ],
             [
              0.1111111111111111,
              "#46039f"
             ],
             [
              0.2222222222222222,
              "#7201a8"
             ],
             [
              0.3333333333333333,
              "#9c179e"
             ],
             [
              0.4444444444444444,
              "#bd3786"
             ],
             [
              0.5555555555555556,
              "#d8576b"
             ],
             [
              0.6666666666666666,
              "#ed7953"
             ],
             [
              0.7777777777777778,
              "#fb9f3a"
             ],
             [
              0.8888888888888888,
              "#fdca26"
             ],
             [
              1,
              "#f0f921"
             ]
            ],
            "type": "contour"
           }
          ],
          "contourcarpet": [
           {
            "colorbar": {
             "outlinewidth": 0,
             "ticks": ""
            },
            "type": "contourcarpet"
           }
          ],
          "heatmap": [
           {
            "colorbar": {
             "outlinewidth": 0,
             "ticks": ""
            },
            "colorscale": [
             [
              0,
              "#0d0887"
             ],
             [
              0.1111111111111111,
              "#46039f"
             ],
             [
              0.2222222222222222,
              "#7201a8"
             ],
             [
              0.3333333333333333,
              "#9c179e"
             ],
             [
              0.4444444444444444,
              "#bd3786"
             ],
             [
              0.5555555555555556,
              "#d8576b"
             ],
             [
              0.6666666666666666,
              "#ed7953"
             ],
             [
              0.7777777777777778,
              "#fb9f3a"
             ],
             [
              0.8888888888888888,
              "#fdca26"
             ],
             [
              1,
              "#f0f921"
             ]
            ],
            "type": "heatmap"
           }
          ],
          "heatmapgl": [
           {
            "colorbar": {
             "outlinewidth": 0,
             "ticks": ""
            },
            "colorscale": [
             [
              0,
              "#0d0887"
             ],
             [
              0.1111111111111111,
              "#46039f"
             ],
             [
              0.2222222222222222,
              "#7201a8"
             ],
             [
              0.3333333333333333,
              "#9c179e"
             ],
             [
              0.4444444444444444,
              "#bd3786"
             ],
             [
              0.5555555555555556,
              "#d8576b"
             ],
             [
              0.6666666666666666,
              "#ed7953"
             ],
             [
              0.7777777777777778,
              "#fb9f3a"
             ],
             [
              0.8888888888888888,
              "#fdca26"
             ],
             [
              1,
              "#f0f921"
             ]
            ],
            "type": "heatmapgl"
           }
          ],
          "histogram": [
           {
            "marker": {
             "pattern": {
              "fillmode": "overlay",
              "size": 10,
              "solidity": 0.2
             }
            },
            "type": "histogram"
           }
          ],
          "histogram2d": [
           {
            "colorbar": {
             "outlinewidth": 0,
             "ticks": ""
            },
            "colorscale": [
             [
              0,
              "#0d0887"
             ],
             [
              0.1111111111111111,
              "#46039f"
             ],
             [
              0.2222222222222222,
              "#7201a8"
             ],
             [
              0.3333333333333333,
              "#9c179e"
             ],
             [
              0.4444444444444444,
              "#bd3786"
             ],
             [
              0.5555555555555556,
              "#d8576b"
             ],
             [
              0.6666666666666666,
              "#ed7953"
             ],
             [
              0.7777777777777778,
              "#fb9f3a"
             ],
             [
              0.8888888888888888,
              "#fdca26"
             ],
             [
              1,
              "#f0f921"
             ]
            ],
            "type": "histogram2d"
           }
          ],
          "histogram2dcontour": [
           {
            "colorbar": {
             "outlinewidth": 0,
             "ticks": ""
            },
            "colorscale": [
             [
              0,
              "#0d0887"
             ],
             [
              0.1111111111111111,
              "#46039f"
             ],
             [
              0.2222222222222222,
              "#7201a8"
             ],
             [
              0.3333333333333333,
              "#9c179e"
             ],
             [
              0.4444444444444444,
              "#bd3786"
             ],
             [
              0.5555555555555556,
              "#d8576b"
             ],
             [
              0.6666666666666666,
              "#ed7953"
             ],
             [
              0.7777777777777778,
              "#fb9f3a"
             ],
             [
              0.8888888888888888,
              "#fdca26"
             ],
             [
              1,
              "#f0f921"
             ]
            ],
            "type": "histogram2dcontour"
           }
          ],
          "mesh3d": [
           {
            "colorbar": {
             "outlinewidth": 0,
             "ticks": ""
            },
            "type": "mesh3d"
           }
          ],
          "parcoords": [
           {
            "line": {
             "colorbar": {
              "outlinewidth": 0,
              "ticks": ""
             }
            },
            "type": "parcoords"
           }
          ],
          "pie": [
           {
            "automargin": true,
            "type": "pie"
           }
          ],
          "scatter": [
           {
            "fillpattern": {
             "fillmode": "overlay",
             "size": 10,
             "solidity": 0.2
            },
            "type": "scatter"
           }
          ],
          "scatter3d": [
           {
            "line": {
             "colorbar": {
              "outlinewidth": 0,
              "ticks": ""
             }
            },
            "marker": {
             "colorbar": {
              "outlinewidth": 0,
              "ticks": ""
             }
            },
            "type": "scatter3d"
           }
          ],
          "scattercarpet": [
           {
            "marker": {
             "colorbar": {
              "outlinewidth": 0,
              "ticks": ""
             }
            },
            "type": "scattercarpet"
           }
          ],
          "scattergeo": [
           {
            "marker": {
             "colorbar": {
              "outlinewidth": 0,
              "ticks": ""
             }
            },
            "type": "scattergeo"
           }
          ],
          "scattergl": [
           {
            "marker": {
             "colorbar": {
              "outlinewidth": 0,
              "ticks": ""
             }
            },
            "type": "scattergl"
           }
          ],
          "scattermapbox": [
           {
            "marker": {
             "colorbar": {
              "outlinewidth": 0,
              "ticks": ""
             }
            },
            "type": "scattermapbox"
           }
          ],
          "scatterpolar": [
           {
            "marker": {
             "colorbar": {
              "outlinewidth": 0,
              "ticks": ""
             }
            },
            "type": "scatterpolar"
           }
          ],
          "scatterpolargl": [
           {
            "marker": {
             "colorbar": {
              "outlinewidth": 0,
              "ticks": ""
             }
            },
            "type": "scatterpolargl"
           }
          ],
          "scatterternary": [
           {
            "marker": {
             "colorbar": {
              "outlinewidth": 0,
              "ticks": ""
             }
            },
            "type": "scatterternary"
           }
          ],
          "surface": [
           {
            "colorbar": {
             "outlinewidth": 0,
             "ticks": ""
            },
            "colorscale": [
             [
              0,
              "#0d0887"
             ],
             [
              0.1111111111111111,
              "#46039f"
             ],
             [
              0.2222222222222222,
              "#7201a8"
             ],
             [
              0.3333333333333333,
              "#9c179e"
             ],
             [
              0.4444444444444444,
              "#bd3786"
             ],
             [
              0.5555555555555556,
              "#d8576b"
             ],
             [
              0.6666666666666666,
              "#ed7953"
             ],
             [
              0.7777777777777778,
              "#fb9f3a"
             ],
             [
              0.8888888888888888,
              "#fdca26"
             ],
             [
              1,
              "#f0f921"
             ]
            ],
            "type": "surface"
           }
          ],
          "table": [
           {
            "cells": {
             "fill": {
              "color": "#EBF0F8"
             },
             "line": {
              "color": "white"
             }
            },
            "header": {
             "fill": {
              "color": "#C8D4E3"
             },
             "line": {
              "color": "white"
             }
            },
            "type": "table"
           }
          ]
         },
         "layout": {
          "annotationdefaults": {
           "arrowcolor": "#2a3f5f",
           "arrowhead": 0,
           "arrowwidth": 1
          },
          "autotypenumbers": "strict",
          "coloraxis": {
           "colorbar": {
            "outlinewidth": 0,
            "ticks": ""
           }
          },
          "colorscale": {
           "diverging": [
            [
             0,
             "#8e0152"
            ],
            [
             0.1,
             "#c51b7d"
            ],
            [
             0.2,
             "#de77ae"
            ],
            [
             0.3,
             "#f1b6da"
            ],
            [
             0.4,
             "#fde0ef"
            ],
            [
             0.5,
             "#f7f7f7"
            ],
            [
             0.6,
             "#e6f5d0"
            ],
            [
             0.7,
             "#b8e186"
            ],
            [
             0.8,
             "#7fbc41"
            ],
            [
             0.9,
             "#4d9221"
            ],
            [
             1,
             "#276419"
            ]
           ],
           "sequential": [
            [
             0,
             "#0d0887"
            ],
            [
             0.1111111111111111,
             "#46039f"
            ],
            [
             0.2222222222222222,
             "#7201a8"
            ],
            [
             0.3333333333333333,
             "#9c179e"
            ],
            [
             0.4444444444444444,
             "#bd3786"
            ],
            [
             0.5555555555555556,
             "#d8576b"
            ],
            [
             0.6666666666666666,
             "#ed7953"
            ],
            [
             0.7777777777777778,
             "#fb9f3a"
            ],
            [
             0.8888888888888888,
             "#fdca26"
            ],
            [
             1,
             "#f0f921"
            ]
           ],
           "sequentialminus": [
            [
             0,
             "#0d0887"
            ],
            [
             0.1111111111111111,
             "#46039f"
            ],
            [
             0.2222222222222222,
             "#7201a8"
            ],
            [
             0.3333333333333333,
             "#9c179e"
            ],
            [
             0.4444444444444444,
             "#bd3786"
            ],
            [
             0.5555555555555556,
             "#d8576b"
            ],
            [
             0.6666666666666666,
             "#ed7953"
            ],
            [
             0.7777777777777778,
             "#fb9f3a"
            ],
            [
             0.8888888888888888,
             "#fdca26"
            ],
            [
             1,
             "#f0f921"
            ]
           ]
          },
          "colorway": [
           "#636efa",
           "#EF553B",
           "#00cc96",
           "#ab63fa",
           "#FFA15A",
           "#19d3f3",
           "#FF6692",
           "#B6E880",
           "#FF97FF",
           "#FECB52"
          ],
          "font": {
           "color": "#2a3f5f"
          },
          "geo": {
           "bgcolor": "white",
           "lakecolor": "white",
           "landcolor": "#E5ECF6",
           "showlakes": true,
           "showland": true,
           "subunitcolor": "white"
          },
          "hoverlabel": {
           "align": "left"
          },
          "hovermode": "closest",
          "mapbox": {
           "style": "light"
          },
          "paper_bgcolor": "white",
          "plot_bgcolor": "#E5ECF6",
          "polar": {
           "angularaxis": {
            "gridcolor": "white",
            "linecolor": "white",
            "ticks": ""
           },
           "bgcolor": "#E5ECF6",
           "radialaxis": {
            "gridcolor": "white",
            "linecolor": "white",
            "ticks": ""
           }
          },
          "scene": {
           "xaxis": {
            "backgroundcolor": "#E5ECF6",
            "gridcolor": "white",
            "gridwidth": 2,
            "linecolor": "white",
            "showbackground": true,
            "ticks": "",
            "zerolinecolor": "white"
           },
           "yaxis": {
            "backgroundcolor": "#E5ECF6",
            "gridcolor": "white",
            "gridwidth": 2,
            "linecolor": "white",
            "showbackground": true,
            "ticks": "",
            "zerolinecolor": "white"
           },
           "zaxis": {
            "backgroundcolor": "#E5ECF6",
            "gridcolor": "white",
            "gridwidth": 2,
            "linecolor": "white",
            "showbackground": true,
            "ticks": "",
            "zerolinecolor": "white"
           }
          },
          "shapedefaults": {
           "line": {
            "color": "#2a3f5f"
           }
          },
          "ternary": {
           "aaxis": {
            "gridcolor": "white",
            "linecolor": "white",
            "ticks": ""
           },
           "baxis": {
            "gridcolor": "white",
            "linecolor": "white",
            "ticks": ""
           },
           "bgcolor": "#E5ECF6",
           "caxis": {
            "gridcolor": "white",
            "linecolor": "white",
            "ticks": ""
           }
          },
          "title": {
           "x": 0.05
          },
          "xaxis": {
           "automargin": true,
           "gridcolor": "white",
           "linecolor": "white",
           "ticks": "",
           "title": {
            "standoff": 15
           },
           "zerolinecolor": "white",
           "zerolinewidth": 2
          },
          "yaxis": {
           "automargin": true,
           "gridcolor": "white",
           "linecolor": "white",
           "ticks": "",
           "title": {
            "standoff": 15
           },
           "zerolinecolor": "white",
           "zerolinewidth": 2
          }
         }
        },
        "yaxis": {
         "range": [
          0,
          1
         ]
        }
       }
      }
     },
     "metadata": {},
     "output_type": "display_data"
    }
   ],
   "source": [
    "l = [\"results_small_ultimate_en33_ja33_vi33.json\",\n",
    "\"results_small_ultimate_en50_ja25_vi25.json\",\n",
    "\"results_small_ultimate_en33_ja50_vi17.json\",\n",
    "\"results_small_ultimate_en33_ja17_vi50.json\"]\n",
    "\n",
    "results_dev_test_testsmall = []\n",
    "n = 0\n",
    "for file in l:\n",
    "    f = open(file)\n",
    "    data = json.load(f)\n",
    "    f.close()\n",
    "    results_dev_test_testsmall.append(results_dev_test[n]+[data[\"LAS\"][\"precision\"]])\n",
    "    n +=1\n",
    "\n",
    "fig = go.Figure(data=[\n",
    "    go.Bar(name='dev set', x=index, y=[d[0] for d in results_dev_test_testsmall], marker_color = 'maroon'),\n",
    "    go.Bar(name='test set', x=index, y=[d[1] for d in results_dev_test_testsmall], marker_color = 'plum'),\n",
    "    go.Bar(name='small test set', x=index, y=[d[2] for d in results_dev_test_testsmall], marker_color = 'pink'),\n",
    "])\n",
    "\n",
    "fig.update_layout(barmode='group')\n",
    "fig.update_layout(yaxis_range=[0,1])\n",
    "fig.show()\n"
   ]
  },
  {
   "cell_type": "markdown",
   "metadata": {},
   "source": [
    "Now let's see how well the 4 ultimate models perform for Chinese! This test set is called test_chinese\n"
   ]
  },
  {
   "cell_type": "markdown",
   "metadata": {},
   "source": [
    "We have to run the following code from the powershell:\n",
    "\n",
    "python predict.py logs/udapter/2024.06.12_22.28.41_ultimate_en33_ja33_vi33/model.tar.gz data/ud/multilingual_ultimate_en33_ja33_vi33/test_chinese.conllu output_chinese_ultimate_en33_ja33_vi33.conllu --eval_file results_chinese_ultimate_en33_ja33_vi33.json ;\n",
    "\n",
    "python predict.py logs/udapter/2024.06.14_09.49.50_ultimate_en50_ja25_vi25/model.tar.gz data/ud/multilingual_ultimate_en50_ja25_vi25/test_chinese.conllu output_chinese_ultimate_en50_ja25_vi25.conllu --eval_file results_chinese_ultimate_en50_ja25_vi25.json ;\n",
    "\n",
    "python predict.py logs/udapter/2024.06.16_00.52.40_ultimate_en33_ja50_vi17/model.tar.gz data/ud/multilingual_ultimate_en33_ja50_vi17/test_chinese.conllu output_chinese_ultimate_en33_ja50_vi17.conllu --eval_file results_chinese_ultimate_en33_ja50_vi17.json ; \n",
    "\n",
    "python predict.py logs/udapter/2024.06.17_18.59.22_ultimate_en33_ja17_vi50/model.tar.gz data/ud/multilingual_ultimate_en33_ja17_vi50/test_chinese.conllu output_chinese_ultimate_en33_ja17_vi50.conllu --eval_file results_chinese_ultimate_en33_ja17_vi50.json"
   ]
  },
  {
   "cell_type": "code",
   "execution_count": 10,
   "metadata": {},
   "outputs": [
    {
     "data": {
      "application/vnd.plotly.v1+json": {
       "config": {
        "plotlyServerURL": "https://plot.ly"
       },
       "data": [
        {
         "marker": {
          "color": "maroon"
         },
         "name": "dev set",
         "type": "bar",
         "x": [
          "en33_ja33_vi33",
          "en50_ja25_vi25",
          "en33_ja50_vi17",
          "en33_ja17_vi50"
         ],
         "y": [
          0.8037785526222159,
          0.7963779975805878,
          0.8045613036362342,
          0.7926421404682275
         ]
        },
        {
         "marker": {
          "color": "plum"
         },
         "name": "test set",
         "type": "bar",
         "x": [
          "en33_ja33_vi33",
          "en50_ja25_vi25",
          "en33_ja50_vi17",
          "en33_ja17_vi50"
         ],
         "y": [
          0.7879135864494365,
          0.7762147419794732,
          0.7875188401636403,
          0.7785114476422881
         ]
        },
        {
         "marker": {
          "color": "pink"
         },
         "name": "small test set",
         "type": "bar",
         "x": [
          "en33_ja33_vi33",
          "en50_ja25_vi25",
          "en33_ja50_vi17",
          "en33_ja17_vi50"
         ],
         "y": [
          0.7988190636862084,
          0.7830029523407844,
          0.8040911008013496,
          0.7821594264023619
         ]
        },
        {
         "marker": {
          "color": "orange"
         },
         "name": "chinese test set",
         "type": "bar",
         "x": [
          "en33_ja33_vi33",
          "en50_ja25_vi25",
          "en33_ja50_vi17",
          "en33_ja17_vi50"
         ],
         "y": [
          0.28646353646353645,
          0.2727272727272727,
          0.272977022977023,
          0.2763070263070263
         ]
        }
       ],
       "layout": {
        "barmode": "group",
        "template": {
         "data": {
          "bar": [
           {
            "error_x": {
             "color": "#2a3f5f"
            },
            "error_y": {
             "color": "#2a3f5f"
            },
            "marker": {
             "line": {
              "color": "#E5ECF6",
              "width": 0.5
             },
             "pattern": {
              "fillmode": "overlay",
              "size": 10,
              "solidity": 0.2
             }
            },
            "type": "bar"
           }
          ],
          "barpolar": [
           {
            "marker": {
             "line": {
              "color": "#E5ECF6",
              "width": 0.5
             },
             "pattern": {
              "fillmode": "overlay",
              "size": 10,
              "solidity": 0.2
             }
            },
            "type": "barpolar"
           }
          ],
          "carpet": [
           {
            "aaxis": {
             "endlinecolor": "#2a3f5f",
             "gridcolor": "white",
             "linecolor": "white",
             "minorgridcolor": "white",
             "startlinecolor": "#2a3f5f"
            },
            "baxis": {
             "endlinecolor": "#2a3f5f",
             "gridcolor": "white",
             "linecolor": "white",
             "minorgridcolor": "white",
             "startlinecolor": "#2a3f5f"
            },
            "type": "carpet"
           }
          ],
          "choropleth": [
           {
            "colorbar": {
             "outlinewidth": 0,
             "ticks": ""
            },
            "type": "choropleth"
           }
          ],
          "contour": [
           {
            "colorbar": {
             "outlinewidth": 0,
             "ticks": ""
            },
            "colorscale": [
             [
              0,
              "#0d0887"
             ],
             [
              0.1111111111111111,
              "#46039f"
             ],
             [
              0.2222222222222222,
              "#7201a8"
             ],
             [
              0.3333333333333333,
              "#9c179e"
             ],
             [
              0.4444444444444444,
              "#bd3786"
             ],
             [
              0.5555555555555556,
              "#d8576b"
             ],
             [
              0.6666666666666666,
              "#ed7953"
             ],
             [
              0.7777777777777778,
              "#fb9f3a"
             ],
             [
              0.8888888888888888,
              "#fdca26"
             ],
             [
              1,
              "#f0f921"
             ]
            ],
            "type": "contour"
           }
          ],
          "contourcarpet": [
           {
            "colorbar": {
             "outlinewidth": 0,
             "ticks": ""
            },
            "type": "contourcarpet"
           }
          ],
          "heatmap": [
           {
            "colorbar": {
             "outlinewidth": 0,
             "ticks": ""
            },
            "colorscale": [
             [
              0,
              "#0d0887"
             ],
             [
              0.1111111111111111,
              "#46039f"
             ],
             [
              0.2222222222222222,
              "#7201a8"
             ],
             [
              0.3333333333333333,
              "#9c179e"
             ],
             [
              0.4444444444444444,
              "#bd3786"
             ],
             [
              0.5555555555555556,
              "#d8576b"
             ],
             [
              0.6666666666666666,
              "#ed7953"
             ],
             [
              0.7777777777777778,
              "#fb9f3a"
             ],
             [
              0.8888888888888888,
              "#fdca26"
             ],
             [
              1,
              "#f0f921"
             ]
            ],
            "type": "heatmap"
           }
          ],
          "heatmapgl": [
           {
            "colorbar": {
             "outlinewidth": 0,
             "ticks": ""
            },
            "colorscale": [
             [
              0,
              "#0d0887"
             ],
             [
              0.1111111111111111,
              "#46039f"
             ],
             [
              0.2222222222222222,
              "#7201a8"
             ],
             [
              0.3333333333333333,
              "#9c179e"
             ],
             [
              0.4444444444444444,
              "#bd3786"
             ],
             [
              0.5555555555555556,
              "#d8576b"
             ],
             [
              0.6666666666666666,
              "#ed7953"
             ],
             [
              0.7777777777777778,
              "#fb9f3a"
             ],
             [
              0.8888888888888888,
              "#fdca26"
             ],
             [
              1,
              "#f0f921"
             ]
            ],
            "type": "heatmapgl"
           }
          ],
          "histogram": [
           {
            "marker": {
             "pattern": {
              "fillmode": "overlay",
              "size": 10,
              "solidity": 0.2
             }
            },
            "type": "histogram"
           }
          ],
          "histogram2d": [
           {
            "colorbar": {
             "outlinewidth": 0,
             "ticks": ""
            },
            "colorscale": [
             [
              0,
              "#0d0887"
             ],
             [
              0.1111111111111111,
              "#46039f"
             ],
             [
              0.2222222222222222,
              "#7201a8"
             ],
             [
              0.3333333333333333,
              "#9c179e"
             ],
             [
              0.4444444444444444,
              "#bd3786"
             ],
             [
              0.5555555555555556,
              "#d8576b"
             ],
             [
              0.6666666666666666,
              "#ed7953"
             ],
             [
              0.7777777777777778,
              "#fb9f3a"
             ],
             [
              0.8888888888888888,
              "#fdca26"
             ],
             [
              1,
              "#f0f921"
             ]
            ],
            "type": "histogram2d"
           }
          ],
          "histogram2dcontour": [
           {
            "colorbar": {
             "outlinewidth": 0,
             "ticks": ""
            },
            "colorscale": [
             [
              0,
              "#0d0887"
             ],
             [
              0.1111111111111111,
              "#46039f"
             ],
             [
              0.2222222222222222,
              "#7201a8"
             ],
             [
              0.3333333333333333,
              "#9c179e"
             ],
             [
              0.4444444444444444,
              "#bd3786"
             ],
             [
              0.5555555555555556,
              "#d8576b"
             ],
             [
              0.6666666666666666,
              "#ed7953"
             ],
             [
              0.7777777777777778,
              "#fb9f3a"
             ],
             [
              0.8888888888888888,
              "#fdca26"
             ],
             [
              1,
              "#f0f921"
             ]
            ],
            "type": "histogram2dcontour"
           }
          ],
          "mesh3d": [
           {
            "colorbar": {
             "outlinewidth": 0,
             "ticks": ""
            },
            "type": "mesh3d"
           }
          ],
          "parcoords": [
           {
            "line": {
             "colorbar": {
              "outlinewidth": 0,
              "ticks": ""
             }
            },
            "type": "parcoords"
           }
          ],
          "pie": [
           {
            "automargin": true,
            "type": "pie"
           }
          ],
          "scatter": [
           {
            "fillpattern": {
             "fillmode": "overlay",
             "size": 10,
             "solidity": 0.2
            },
            "type": "scatter"
           }
          ],
          "scatter3d": [
           {
            "line": {
             "colorbar": {
              "outlinewidth": 0,
              "ticks": ""
             }
            },
            "marker": {
             "colorbar": {
              "outlinewidth": 0,
              "ticks": ""
             }
            },
            "type": "scatter3d"
           }
          ],
          "scattercarpet": [
           {
            "marker": {
             "colorbar": {
              "outlinewidth": 0,
              "ticks": ""
             }
            },
            "type": "scattercarpet"
           }
          ],
          "scattergeo": [
           {
            "marker": {
             "colorbar": {
              "outlinewidth": 0,
              "ticks": ""
             }
            },
            "type": "scattergeo"
           }
          ],
          "scattergl": [
           {
            "marker": {
             "colorbar": {
              "outlinewidth": 0,
              "ticks": ""
             }
            },
            "type": "scattergl"
           }
          ],
          "scattermapbox": [
           {
            "marker": {
             "colorbar": {
              "outlinewidth": 0,
              "ticks": ""
             }
            },
            "type": "scattermapbox"
           }
          ],
          "scatterpolar": [
           {
            "marker": {
             "colorbar": {
              "outlinewidth": 0,
              "ticks": ""
             }
            },
            "type": "scatterpolar"
           }
          ],
          "scatterpolargl": [
           {
            "marker": {
             "colorbar": {
              "outlinewidth": 0,
              "ticks": ""
             }
            },
            "type": "scatterpolargl"
           }
          ],
          "scatterternary": [
           {
            "marker": {
             "colorbar": {
              "outlinewidth": 0,
              "ticks": ""
             }
            },
            "type": "scatterternary"
           }
          ],
          "surface": [
           {
            "colorbar": {
             "outlinewidth": 0,
             "ticks": ""
            },
            "colorscale": [
             [
              0,
              "#0d0887"
             ],
             [
              0.1111111111111111,
              "#46039f"
             ],
             [
              0.2222222222222222,
              "#7201a8"
             ],
             [
              0.3333333333333333,
              "#9c179e"
             ],
             [
              0.4444444444444444,
              "#bd3786"
             ],
             [
              0.5555555555555556,
              "#d8576b"
             ],
             [
              0.6666666666666666,
              "#ed7953"
             ],
             [
              0.7777777777777778,
              "#fb9f3a"
             ],
             [
              0.8888888888888888,
              "#fdca26"
             ],
             [
              1,
              "#f0f921"
             ]
            ],
            "type": "surface"
           }
          ],
          "table": [
           {
            "cells": {
             "fill": {
              "color": "#EBF0F8"
             },
             "line": {
              "color": "white"
             }
            },
            "header": {
             "fill": {
              "color": "#C8D4E3"
             },
             "line": {
              "color": "white"
             }
            },
            "type": "table"
           }
          ]
         },
         "layout": {
          "annotationdefaults": {
           "arrowcolor": "#2a3f5f",
           "arrowhead": 0,
           "arrowwidth": 1
          },
          "autotypenumbers": "strict",
          "coloraxis": {
           "colorbar": {
            "outlinewidth": 0,
            "ticks": ""
           }
          },
          "colorscale": {
           "diverging": [
            [
             0,
             "#8e0152"
            ],
            [
             0.1,
             "#c51b7d"
            ],
            [
             0.2,
             "#de77ae"
            ],
            [
             0.3,
             "#f1b6da"
            ],
            [
             0.4,
             "#fde0ef"
            ],
            [
             0.5,
             "#f7f7f7"
            ],
            [
             0.6,
             "#e6f5d0"
            ],
            [
             0.7,
             "#b8e186"
            ],
            [
             0.8,
             "#7fbc41"
            ],
            [
             0.9,
             "#4d9221"
            ],
            [
             1,
             "#276419"
            ]
           ],
           "sequential": [
            [
             0,
             "#0d0887"
            ],
            [
             0.1111111111111111,
             "#46039f"
            ],
            [
             0.2222222222222222,
             "#7201a8"
            ],
            [
             0.3333333333333333,
             "#9c179e"
            ],
            [
             0.4444444444444444,
             "#bd3786"
            ],
            [
             0.5555555555555556,
             "#d8576b"
            ],
            [
             0.6666666666666666,
             "#ed7953"
            ],
            [
             0.7777777777777778,
             "#fb9f3a"
            ],
            [
             0.8888888888888888,
             "#fdca26"
            ],
            [
             1,
             "#f0f921"
            ]
           ],
           "sequentialminus": [
            [
             0,
             "#0d0887"
            ],
            [
             0.1111111111111111,
             "#46039f"
            ],
            [
             0.2222222222222222,
             "#7201a8"
            ],
            [
             0.3333333333333333,
             "#9c179e"
            ],
            [
             0.4444444444444444,
             "#bd3786"
            ],
            [
             0.5555555555555556,
             "#d8576b"
            ],
            [
             0.6666666666666666,
             "#ed7953"
            ],
            [
             0.7777777777777778,
             "#fb9f3a"
            ],
            [
             0.8888888888888888,
             "#fdca26"
            ],
            [
             1,
             "#f0f921"
            ]
           ]
          },
          "colorway": [
           "#636efa",
           "#EF553B",
           "#00cc96",
           "#ab63fa",
           "#FFA15A",
           "#19d3f3",
           "#FF6692",
           "#B6E880",
           "#FF97FF",
           "#FECB52"
          ],
          "font": {
           "color": "#2a3f5f"
          },
          "geo": {
           "bgcolor": "white",
           "lakecolor": "white",
           "landcolor": "#E5ECF6",
           "showlakes": true,
           "showland": true,
           "subunitcolor": "white"
          },
          "hoverlabel": {
           "align": "left"
          },
          "hovermode": "closest",
          "mapbox": {
           "style": "light"
          },
          "paper_bgcolor": "white",
          "plot_bgcolor": "#E5ECF6",
          "polar": {
           "angularaxis": {
            "gridcolor": "white",
            "linecolor": "white",
            "ticks": ""
           },
           "bgcolor": "#E5ECF6",
           "radialaxis": {
            "gridcolor": "white",
            "linecolor": "white",
            "ticks": ""
           }
          },
          "scene": {
           "xaxis": {
            "backgroundcolor": "#E5ECF6",
            "gridcolor": "white",
            "gridwidth": 2,
            "linecolor": "white",
            "showbackground": true,
            "ticks": "",
            "zerolinecolor": "white"
           },
           "yaxis": {
            "backgroundcolor": "#E5ECF6",
            "gridcolor": "white",
            "gridwidth": 2,
            "linecolor": "white",
            "showbackground": true,
            "ticks": "",
            "zerolinecolor": "white"
           },
           "zaxis": {
            "backgroundcolor": "#E5ECF6",
            "gridcolor": "white",
            "gridwidth": 2,
            "linecolor": "white",
            "showbackground": true,
            "ticks": "",
            "zerolinecolor": "white"
           }
          },
          "shapedefaults": {
           "line": {
            "color": "#2a3f5f"
           }
          },
          "ternary": {
           "aaxis": {
            "gridcolor": "white",
            "linecolor": "white",
            "ticks": ""
           },
           "baxis": {
            "gridcolor": "white",
            "linecolor": "white",
            "ticks": ""
           },
           "bgcolor": "#E5ECF6",
           "caxis": {
            "gridcolor": "white",
            "linecolor": "white",
            "ticks": ""
           }
          },
          "title": {
           "x": 0.05
          },
          "xaxis": {
           "automargin": true,
           "gridcolor": "white",
           "linecolor": "white",
           "ticks": "",
           "title": {
            "standoff": 15
           },
           "zerolinecolor": "white",
           "zerolinewidth": 2
          },
          "yaxis": {
           "automargin": true,
           "gridcolor": "white",
           "linecolor": "white",
           "ticks": "",
           "title": {
            "standoff": 15
           },
           "zerolinecolor": "white",
           "zerolinewidth": 2
          }
         }
        },
        "yaxis": {
         "range": [
          0,
          1
         ]
        }
       }
      }
     },
     "metadata": {},
     "output_type": "display_data"
    }
   ],
   "source": [
    "l = [\"results_chinese_ultimate_en33_ja33_vi33.json\",\n",
    "\"results_chinese_ultimate_en50_ja25_vi25.json\",\n",
    "\"results_chinese_ultimate_en33_ja50_vi17.json\",\n",
    "\"results_chinese_ultimate_en33_ja17_vi50.json\"]\n",
    "\n",
    "results_dev_test_testsmall_testchinese = []\n",
    "n = 0\n",
    "for file in l:\n",
    "    f = open(file)\n",
    "    data = json.load(f)\n",
    "    f.close()\n",
    "    results_dev_test_testsmall_testchinese.append(results_dev_test_testsmall[n]+[data[\"LAS\"][\"precision\"]])\n",
    "    n +=1\n",
    "\n",
    "fig = go.Figure(data=[\n",
    "    go.Bar(name='dev set', x=index, y=[d[0] for d in results_dev_test_testsmall_testchinese], marker_color = 'maroon'),\n",
    "    go.Bar(name='test set', x=index, y=[d[1] for d in results_dev_test_testsmall_testchinese], marker_color = 'plum'),\n",
    "    go.Bar(name='small test set', x=index, y=[d[2] for d in results_dev_test_testsmall_testchinese], marker_color = 'pink'),\n",
    "    go.Bar(name='chinese test set', x=index, y=[d[3] for d in results_dev_test_testsmall_testchinese], marker_color = 'orange')\n",
    "])\n",
    "\n",
    "fig.update_layout(barmode='group')\n",
    "fig.update_layout(yaxis_range=[0,1])\n",
    "fig.show()"
   ]
  },
  {
   "cell_type": "markdown",
   "metadata": {},
   "source": [
    "The results for Chinese all look similar, is that correct? "
   ]
  },
  {
   "cell_type": "code",
   "execution_count": 11,
   "metadata": {},
   "outputs": [
    {
     "data": {
      "application/vnd.plotly.v1+json": {
       "config": {
        "plotlyServerURL": "https://plot.ly"
       },
       "data": [
        {
         "marker": {
          "color": "orange"
         },
         "name": "chinese test set",
         "type": "bar",
         "x": [
          "en33_ja33_vi33",
          "en50_ja25_vi25",
          "en33_ja50_vi17",
          "en33_ja17_vi50"
         ],
         "y": [
          3441,
          3276,
          3279,
          3319
         ]
        }
       ],
       "layout": {
        "shapes": [
         {
          "line": {
           "color": "maroon",
           "dash": "dash",
           "width": 1.8
          },
          "type": "line",
          "x0": 0,
          "x1": 1,
          "xref": "x domain",
          "y0": 3441,
          "y1": 3441,
          "yref": "y"
         }
        ],
        "template": {
         "data": {
          "bar": [
           {
            "error_x": {
             "color": "#2a3f5f"
            },
            "error_y": {
             "color": "#2a3f5f"
            },
            "marker": {
             "line": {
              "color": "#E5ECF6",
              "width": 0.5
             },
             "pattern": {
              "fillmode": "overlay",
              "size": 10,
              "solidity": 0.2
             }
            },
            "type": "bar"
           }
          ],
          "barpolar": [
           {
            "marker": {
             "line": {
              "color": "#E5ECF6",
              "width": 0.5
             },
             "pattern": {
              "fillmode": "overlay",
              "size": 10,
              "solidity": 0.2
             }
            },
            "type": "barpolar"
           }
          ],
          "carpet": [
           {
            "aaxis": {
             "endlinecolor": "#2a3f5f",
             "gridcolor": "white",
             "linecolor": "white",
             "minorgridcolor": "white",
             "startlinecolor": "#2a3f5f"
            },
            "baxis": {
             "endlinecolor": "#2a3f5f",
             "gridcolor": "white",
             "linecolor": "white",
             "minorgridcolor": "white",
             "startlinecolor": "#2a3f5f"
            },
            "type": "carpet"
           }
          ],
          "choropleth": [
           {
            "colorbar": {
             "outlinewidth": 0,
             "ticks": ""
            },
            "type": "choropleth"
           }
          ],
          "contour": [
           {
            "colorbar": {
             "outlinewidth": 0,
             "ticks": ""
            },
            "colorscale": [
             [
              0,
              "#0d0887"
             ],
             [
              0.1111111111111111,
              "#46039f"
             ],
             [
              0.2222222222222222,
              "#7201a8"
             ],
             [
              0.3333333333333333,
              "#9c179e"
             ],
             [
              0.4444444444444444,
              "#bd3786"
             ],
             [
              0.5555555555555556,
              "#d8576b"
             ],
             [
              0.6666666666666666,
              "#ed7953"
             ],
             [
              0.7777777777777778,
              "#fb9f3a"
             ],
             [
              0.8888888888888888,
              "#fdca26"
             ],
             [
              1,
              "#f0f921"
             ]
            ],
            "type": "contour"
           }
          ],
          "contourcarpet": [
           {
            "colorbar": {
             "outlinewidth": 0,
             "ticks": ""
            },
            "type": "contourcarpet"
           }
          ],
          "heatmap": [
           {
            "colorbar": {
             "outlinewidth": 0,
             "ticks": ""
            },
            "colorscale": [
             [
              0,
              "#0d0887"
             ],
             [
              0.1111111111111111,
              "#46039f"
             ],
             [
              0.2222222222222222,
              "#7201a8"
             ],
             [
              0.3333333333333333,
              "#9c179e"
             ],
             [
              0.4444444444444444,
              "#bd3786"
             ],
             [
              0.5555555555555556,
              "#d8576b"
             ],
             [
              0.6666666666666666,
              "#ed7953"
             ],
             [
              0.7777777777777778,
              "#fb9f3a"
             ],
             [
              0.8888888888888888,
              "#fdca26"
             ],
             [
              1,
              "#f0f921"
             ]
            ],
            "type": "heatmap"
           }
          ],
          "heatmapgl": [
           {
            "colorbar": {
             "outlinewidth": 0,
             "ticks": ""
            },
            "colorscale": [
             [
              0,
              "#0d0887"
             ],
             [
              0.1111111111111111,
              "#46039f"
             ],
             [
              0.2222222222222222,
              "#7201a8"
             ],
             [
              0.3333333333333333,
              "#9c179e"
             ],
             [
              0.4444444444444444,
              "#bd3786"
             ],
             [
              0.5555555555555556,
              "#d8576b"
             ],
             [
              0.6666666666666666,
              "#ed7953"
             ],
             [
              0.7777777777777778,
              "#fb9f3a"
             ],
             [
              0.8888888888888888,
              "#fdca26"
             ],
             [
              1,
              "#f0f921"
             ]
            ],
            "type": "heatmapgl"
           }
          ],
          "histogram": [
           {
            "marker": {
             "pattern": {
              "fillmode": "overlay",
              "size": 10,
              "solidity": 0.2
             }
            },
            "type": "histogram"
           }
          ],
          "histogram2d": [
           {
            "colorbar": {
             "outlinewidth": 0,
             "ticks": ""
            },
            "colorscale": [
             [
              0,
              "#0d0887"
             ],
             [
              0.1111111111111111,
              "#46039f"
             ],
             [
              0.2222222222222222,
              "#7201a8"
             ],
             [
              0.3333333333333333,
              "#9c179e"
             ],
             [
              0.4444444444444444,
              "#bd3786"
             ],
             [
              0.5555555555555556,
              "#d8576b"
             ],
             [
              0.6666666666666666,
              "#ed7953"
             ],
             [
              0.7777777777777778,
              "#fb9f3a"
             ],
             [
              0.8888888888888888,
              "#fdca26"
             ],
             [
              1,
              "#f0f921"
             ]
            ],
            "type": "histogram2d"
           }
          ],
          "histogram2dcontour": [
           {
            "colorbar": {
             "outlinewidth": 0,
             "ticks": ""
            },
            "colorscale": [
             [
              0,
              "#0d0887"
             ],
             [
              0.1111111111111111,
              "#46039f"
             ],
             [
              0.2222222222222222,
              "#7201a8"
             ],
             [
              0.3333333333333333,
              "#9c179e"
             ],
             [
              0.4444444444444444,
              "#bd3786"
             ],
             [
              0.5555555555555556,
              "#d8576b"
             ],
             [
              0.6666666666666666,
              "#ed7953"
             ],
             [
              0.7777777777777778,
              "#fb9f3a"
             ],
             [
              0.8888888888888888,
              "#fdca26"
             ],
             [
              1,
              "#f0f921"
             ]
            ],
            "type": "histogram2dcontour"
           }
          ],
          "mesh3d": [
           {
            "colorbar": {
             "outlinewidth": 0,
             "ticks": ""
            },
            "type": "mesh3d"
           }
          ],
          "parcoords": [
           {
            "line": {
             "colorbar": {
              "outlinewidth": 0,
              "ticks": ""
             }
            },
            "type": "parcoords"
           }
          ],
          "pie": [
           {
            "automargin": true,
            "type": "pie"
           }
          ],
          "scatter": [
           {
            "fillpattern": {
             "fillmode": "overlay",
             "size": 10,
             "solidity": 0.2
            },
            "type": "scatter"
           }
          ],
          "scatter3d": [
           {
            "line": {
             "colorbar": {
              "outlinewidth": 0,
              "ticks": ""
             }
            },
            "marker": {
             "colorbar": {
              "outlinewidth": 0,
              "ticks": ""
             }
            },
            "type": "scatter3d"
           }
          ],
          "scattercarpet": [
           {
            "marker": {
             "colorbar": {
              "outlinewidth": 0,
              "ticks": ""
             }
            },
            "type": "scattercarpet"
           }
          ],
          "scattergeo": [
           {
            "marker": {
             "colorbar": {
              "outlinewidth": 0,
              "ticks": ""
             }
            },
            "type": "scattergeo"
           }
          ],
          "scattergl": [
           {
            "marker": {
             "colorbar": {
              "outlinewidth": 0,
              "ticks": ""
             }
            },
            "type": "scattergl"
           }
          ],
          "scattermapbox": [
           {
            "marker": {
             "colorbar": {
              "outlinewidth": 0,
              "ticks": ""
             }
            },
            "type": "scattermapbox"
           }
          ],
          "scatterpolar": [
           {
            "marker": {
             "colorbar": {
              "outlinewidth": 0,
              "ticks": ""
             }
            },
            "type": "scatterpolar"
           }
          ],
          "scatterpolargl": [
           {
            "marker": {
             "colorbar": {
              "outlinewidth": 0,
              "ticks": ""
             }
            },
            "type": "scatterpolargl"
           }
          ],
          "scatterternary": [
           {
            "marker": {
             "colorbar": {
              "outlinewidth": 0,
              "ticks": ""
             }
            },
            "type": "scatterternary"
           }
          ],
          "surface": [
           {
            "colorbar": {
             "outlinewidth": 0,
             "ticks": ""
            },
            "colorscale": [
             [
              0,
              "#0d0887"
             ],
             [
              0.1111111111111111,
              "#46039f"
             ],
             [
              0.2222222222222222,
              "#7201a8"
             ],
             [
              0.3333333333333333,
              "#9c179e"
             ],
             [
              0.4444444444444444,
              "#bd3786"
             ],
             [
              0.5555555555555556,
              "#d8576b"
             ],
             [
              0.6666666666666666,
              "#ed7953"
             ],
             [
              0.7777777777777778,
              "#fb9f3a"
             ],
             [
              0.8888888888888888,
              "#fdca26"
             ],
             [
              1,
              "#f0f921"
             ]
            ],
            "type": "surface"
           }
          ],
          "table": [
           {
            "cells": {
             "fill": {
              "color": "#EBF0F8"
             },
             "line": {
              "color": "white"
             }
            },
            "header": {
             "fill": {
              "color": "#C8D4E3"
             },
             "line": {
              "color": "white"
             }
            },
            "type": "table"
           }
          ]
         },
         "layout": {
          "annotationdefaults": {
           "arrowcolor": "#2a3f5f",
           "arrowhead": 0,
           "arrowwidth": 1
          },
          "autotypenumbers": "strict",
          "coloraxis": {
           "colorbar": {
            "outlinewidth": 0,
            "ticks": ""
           }
          },
          "colorscale": {
           "diverging": [
            [
             0,
             "#8e0152"
            ],
            [
             0.1,
             "#c51b7d"
            ],
            [
             0.2,
             "#de77ae"
            ],
            [
             0.3,
             "#f1b6da"
            ],
            [
             0.4,
             "#fde0ef"
            ],
            [
             0.5,
             "#f7f7f7"
            ],
            [
             0.6,
             "#e6f5d0"
            ],
            [
             0.7,
             "#b8e186"
            ],
            [
             0.8,
             "#7fbc41"
            ],
            [
             0.9,
             "#4d9221"
            ],
            [
             1,
             "#276419"
            ]
           ],
           "sequential": [
            [
             0,
             "#0d0887"
            ],
            [
             0.1111111111111111,
             "#46039f"
            ],
            [
             0.2222222222222222,
             "#7201a8"
            ],
            [
             0.3333333333333333,
             "#9c179e"
            ],
            [
             0.4444444444444444,
             "#bd3786"
            ],
            [
             0.5555555555555556,
             "#d8576b"
            ],
            [
             0.6666666666666666,
             "#ed7953"
            ],
            [
             0.7777777777777778,
             "#fb9f3a"
            ],
            [
             0.8888888888888888,
             "#fdca26"
            ],
            [
             1,
             "#f0f921"
            ]
           ],
           "sequentialminus": [
            [
             0,
             "#0d0887"
            ],
            [
             0.1111111111111111,
             "#46039f"
            ],
            [
             0.2222222222222222,
             "#7201a8"
            ],
            [
             0.3333333333333333,
             "#9c179e"
            ],
            [
             0.4444444444444444,
             "#bd3786"
            ],
            [
             0.5555555555555556,
             "#d8576b"
            ],
            [
             0.6666666666666666,
             "#ed7953"
            ],
            [
             0.7777777777777778,
             "#fb9f3a"
            ],
            [
             0.8888888888888888,
             "#fdca26"
            ],
            [
             1,
             "#f0f921"
            ]
           ]
          },
          "colorway": [
           "#636efa",
           "#EF553B",
           "#00cc96",
           "#ab63fa",
           "#FFA15A",
           "#19d3f3",
           "#FF6692",
           "#B6E880",
           "#FF97FF",
           "#FECB52"
          ],
          "font": {
           "color": "#2a3f5f"
          },
          "geo": {
           "bgcolor": "white",
           "lakecolor": "white",
           "landcolor": "#E5ECF6",
           "showlakes": true,
           "showland": true,
           "subunitcolor": "white"
          },
          "hoverlabel": {
           "align": "left"
          },
          "hovermode": "closest",
          "mapbox": {
           "style": "light"
          },
          "paper_bgcolor": "white",
          "plot_bgcolor": "#E5ECF6",
          "polar": {
           "angularaxis": {
            "gridcolor": "white",
            "linecolor": "white",
            "ticks": ""
           },
           "bgcolor": "#E5ECF6",
           "radialaxis": {
            "gridcolor": "white",
            "linecolor": "white",
            "ticks": ""
           }
          },
          "scene": {
           "xaxis": {
            "backgroundcolor": "#E5ECF6",
            "gridcolor": "white",
            "gridwidth": 2,
            "linecolor": "white",
            "showbackground": true,
            "ticks": "",
            "zerolinecolor": "white"
           },
           "yaxis": {
            "backgroundcolor": "#E5ECF6",
            "gridcolor": "white",
            "gridwidth": 2,
            "linecolor": "white",
            "showbackground": true,
            "ticks": "",
            "zerolinecolor": "white"
           },
           "zaxis": {
            "backgroundcolor": "#E5ECF6",
            "gridcolor": "white",
            "gridwidth": 2,
            "linecolor": "white",
            "showbackground": true,
            "ticks": "",
            "zerolinecolor": "white"
           }
          },
          "shapedefaults": {
           "line": {
            "color": "#2a3f5f"
           }
          },
          "ternary": {
           "aaxis": {
            "gridcolor": "white",
            "linecolor": "white",
            "ticks": ""
           },
           "baxis": {
            "gridcolor": "white",
            "linecolor": "white",
            "ticks": ""
           },
           "bgcolor": "#E5ECF6",
           "caxis": {
            "gridcolor": "white",
            "linecolor": "white",
            "ticks": ""
           }
          },
          "title": {
           "x": 0.05
          },
          "xaxis": {
           "automargin": true,
           "gridcolor": "white",
           "linecolor": "white",
           "ticks": "",
           "title": {
            "standoff": 15
           },
           "zerolinecolor": "white",
           "zerolinewidth": 2
          },
          "yaxis": {
           "automargin": true,
           "gridcolor": "white",
           "linecolor": "white",
           "ticks": "",
           "title": {
            "standoff": 15
           },
           "zerolinecolor": "white",
           "zerolinewidth": 2
          }
         }
        },
        "width": 1000
       }
      }
     },
     "metadata": {},
     "output_type": "display_data"
    }
   ],
   "source": [
    "l = [\"results_chinese_ultimate_en33_ja33_vi33.json\",\n",
    "\"results_chinese_ultimate_en50_ja25_vi25.json\",\n",
    "\"results_chinese_ultimate_en33_ja50_vi17.json\",\n",
    "\"results_chinese_ultimate_en33_ja17_vi50.json\"]\n",
    "\n",
    "results_testchinese_in_numbers = []\n",
    "for file in l:\n",
    "    f = open(file)\n",
    "    data = json.load(f)\n",
    "    f.close()\n",
    "    results_testchinese_in_numbers.append(data[\"LAS\"][\"correct\"])\n",
    "\n",
    "fig = go.Figure(data=[\n",
    "    go.Bar(name='chinese test set', x=index, y=results_testchinese_in_numbers, marker_color = 'orange')\n",
    "])\n",
    "fig.update_layout(width= 1000)\n",
    "fig.add_hline(y=3441, line_width=1.8, line_dash=\"dash\", line_color=\"maroon\")\n",
    "fig.show()"
   ]
  },
  {
   "cell_type": "markdown",
   "metadata": {},
   "source": [
    "Let us check if the results are statistically significant. Therefore we need to compare results and predictions:"
   ]
  },
  {
   "cell_type": "code",
   "execution_count": 133,
   "metadata": {},
   "outputs": [],
   "source": [
    "def get_data(file_path, number):\n",
    "    \"\"\"collects the POS tag for every element and returns list of lists containing segmentnumber and POS tag\"\"\"\n",
    "    item_count = 0\n",
    "    inside_item = False\n",
    "    POS_tag = []\n",
    "    \n",
    "    with open(file_path, 'r', encoding='utf-8') as file:\n",
    "        for line in file:\n",
    "            line = line.strip()\n",
    "            if line.startswith('#') or line == '':\n",
    "                pass\n",
    "            else:\n",
    "                line = line.split()\n",
    "                if line != []:\n",
    "                    POS_tag.append(line[number])\n",
    "    return POS_tag\n"
   ]
  },
  {
   "cell_type": "markdown",
   "metadata": {},
   "source": [
    "First we get the UAS data:"
   ]
  },
  {
   "cell_type": "code",
   "execution_count": 134,
   "metadata": {},
   "outputs": [],
   "source": [
    "real_chinese_UAS_data = get_data('data/ud/multilingual_ultimate_en33_ja33_vi33/test_chinese.conllu', 6)\n",
    "ultimate_en33_ja33_vi33_chinese_UAS_data = get_data('output_chinese_ultimate_en33_ja33_vi33.conllu', 6)\n",
    "ultimate_en50_ja25_vi25_chinese_UAS_data = get_data('output_chinese_ultimate_en50_ja25_vi25.conllu', 6)\n",
    "ultimate_en33_ja50_vi17_chinese_UAS_data = get_data('output_chinese_ultimate_en33_ja50_vi17.conllu', 6)\n",
    "ultimate_en33_ja17_vi50_chinese_UAS_data = get_data('output_chinese_ultimate_en33_ja17_vi50.conllu', 6)"
   ]
  },
  {
   "cell_type": "code",
   "execution_count": 136,
   "metadata": {},
   "outputs": [],
   "source": [
    "data_length = len(real_chinese_UAS_data)"
   ]
  },
  {
   "cell_type": "code",
   "execution_count": 137,
   "metadata": {},
   "outputs": [],
   "source": [
    "def correct_prediction(data, prediction):\n",
    "    \"compares the POS Tags of the test data with the predictions of the models\"\n",
    "    results = []\n",
    "    for entry in range(len(data)):\n",
    "        results.append(data[entry]==prediction[entry])\n",
    "    return results"
   ]
  },
  {
   "cell_type": "code",
   "execution_count": 138,
   "metadata": {},
   "outputs": [],
   "source": [
    "ultimate_en33_ja33_vi33_chinese_prediction_UAS_data = correct_prediction(real_chinese_UAS_data, ultimate_en33_ja33_vi33_chinese_UAS_data)\n",
    "ultimate_en50_ja25_vi25_chinese_prediction_UAS_data = correct_prediction(real_chinese_UAS_data, ultimate_en50_ja25_vi25_chinese_UAS_data)\n",
    "ultimate_en33_ja50_vi17_chinese_prediction_UAS_data = correct_prediction(real_chinese_UAS_data, ultimate_en33_ja50_vi17_chinese_UAS_data)\n",
    "ultimate_en33_ja17_vi50_chinese_prediction_UAS_data = correct_prediction(real_chinese_UAS_data, ultimate_en33_ja17_vi50_chinese_UAS_data)"
   ]
  },
  {
   "cell_type": "code",
   "execution_count": 140,
   "metadata": {},
   "outputs": [
    {
     "name": "stdout",
     "output_type": "stream",
     "text": [
      "6428\n",
      "6289\n",
      "6496\n",
      "6145\n",
      "0.5351315351315351\n",
      "0.5235597735597736\n",
      "0.5407925407925408\n",
      "0.5115717615717615\n"
     ]
    }
   ],
   "source": [
    "print(len([x for x in ultimate_en33_ja33_vi33_chinese_prediction_UAS_data if x == True]))\n",
    "print(len([x for x in ultimate_en50_ja25_vi25_chinese_prediction_UAS_data if x == True]))\n",
    "print(len([x for x in ultimate_en33_ja50_vi17_chinese_prediction_UAS_data if x == True]))\n",
    "print(len([x for x in ultimate_en33_ja17_vi50_chinese_prediction_UAS_data if x == True]))\n",
    "print(len([x for x in ultimate_en33_ja33_vi33_chinese_prediction_UAS_data if x == True])/data_length)\n",
    "print(len([x for x in ultimate_en50_ja25_vi25_chinese_prediction_UAS_data if x == True])/data_length)\n",
    "print(len([x for x in ultimate_en33_ja50_vi17_chinese_prediction_UAS_data if x == True])/data_length)\n",
    "print(len([x for x in ultimate_en33_ja17_vi50_chinese_prediction_UAS_data if x == True])/data_length)"
   ]
  },
  {
   "cell_type": "markdown",
   "metadata": {},
   "source": [
    "Now lets get the LAS data"
   ]
  },
  {
   "cell_type": "code",
   "execution_count": 141,
   "metadata": {},
   "outputs": [],
   "source": [
    "real_chinese_POS_data = get_data('data/ud/multilingual_ultimate_en33_ja33_vi33/test_chinese.conllu', 7)\n",
    "ultimate_en33_ja33_vi33_chinese_POS_data = get_data('output_chinese_ultimate_en33_ja33_vi33.conllu', 7)\n",
    "ultimate_en50_ja25_vi25_chinese_POS_data = get_data('output_chinese_ultimate_en50_ja25_vi25.conllu', 7)\n",
    "ultimate_en33_ja50_vi17_chinese_POS_data = get_data('output_chinese_ultimate_en33_ja50_vi17.conllu', 7)\n",
    "ultimate_en33_ja17_vi50_chinese_POS_data = get_data('output_chinese_ultimate_en33_ja17_vi50.conllu', 7)"
   ]
  },
  {
   "cell_type": "markdown",
   "metadata": {},
   "source": [
    "Some language specific data has to be ignored, hence we have to clean the labels:"
   ]
  },
  {
   "cell_type": "code",
   "execution_count": 142,
   "metadata": {},
   "outputs": [],
   "source": [
    "clean = []\n",
    "for label in real_chinese_POS_data:\n",
    "    if ':' in label:\n",
    "        clean.append(label.split(':')[0])\n",
    "    else:\n",
    "        clean.append(label)\n",
    "real_chinese_POS_data = clean\n",
    "\n",
    "clean = []\n",
    "for label in ultimate_en33_ja33_vi33_chinese_POS_data:\n",
    "    if ':' in label:\n",
    "        clean.append(label.split(':')[0])\n",
    "    else:\n",
    "        clean.append(label)\n",
    "ultimate_en33_ja33_vi33_chinese_POS_data = clean\n",
    "\n",
    "clean = []\n",
    "for label in ultimate_en50_ja25_vi25_chinese_POS_data:\n",
    "    if ':' in label:\n",
    "        clean.append(label.split(':')[0])\n",
    "    else:\n",
    "        clean.append(label)\n",
    "ultimate_en50_ja25_vi25_chinese_POS_data = clean\n",
    "\n",
    "clean = []\n",
    "for label in ultimate_en33_ja50_vi17_chinese_POS_data:\n",
    "    if ':' in label:\n",
    "        clean.append(label.split(':')[0])\n",
    "    else:\n",
    "        clean.append(label)\n",
    "ultimate_en33_ja50_vi17_chinese_POS_data = clean\n",
    "\n",
    "clean = []\n",
    "for label in ultimate_en33_ja17_vi50_chinese_POS_data:\n",
    "    if ':' in label:\n",
    "        clean.append(label.split(':')[0])\n",
    "    else:\n",
    "        clean.append(label)\n",
    "ultimate_en33_ja17_vi50_chinese_POS_data = clean"
   ]
  },
  {
   "cell_type": "code",
   "execution_count": 143,
   "metadata": {},
   "outputs": [],
   "source": [
    "ultimate_en33_ja33_vi33_chinese_prediction_POS_data = correct_prediction(real_chinese_POS_data, ultimate_en33_ja33_vi33_chinese_POS_data)\n",
    "ultimate_en50_ja25_vi25_chinese_prediction_POS_data = correct_prediction(real_chinese_POS_data, ultimate_en50_ja25_vi25_chinese_POS_data)\n",
    "ultimate_en33_ja50_vi17_chinese_prediction_POS_data = correct_prediction(real_chinese_POS_data, ultimate_en33_ja50_vi17_chinese_POS_data)\n",
    "ultimate_en33_ja17_vi50_chinese_prediction_POS_data = correct_prediction(real_chinese_POS_data, ultimate_en33_ja17_vi50_chinese_POS_data)"
   ]
  },
  {
   "cell_type": "code",
   "execution_count": 144,
   "metadata": {},
   "outputs": [
    {
     "name": "stdout",
     "output_type": "stream",
     "text": [
      "5490\n",
      "5259\n",
      "5268\n",
      "5385\n",
      "0.45704295704295705\n",
      "0.43781218781218784\n",
      "0.4385614385614386\n",
      "0.4483016983016983\n"
     ]
    }
   ],
   "source": [
    "print(len([x for x in ultimate_en33_ja33_vi33_chinese_prediction_POS_data if x == True]))\n",
    "print(len([x for x in ultimate_en50_ja25_vi25_chinese_prediction_POS_data if x == True]))\n",
    "print(len([x for x in ultimate_en33_ja50_vi17_chinese_prediction_POS_data if x == True]))\n",
    "print(len([x for x in ultimate_en33_ja17_vi50_chinese_prediction_POS_data if x == True]))\n",
    "print(len([x for x in ultimate_en33_ja33_vi33_chinese_prediction_POS_data if x == True])/data_length)\n",
    "print(len([x for x in ultimate_en50_ja25_vi25_chinese_prediction_POS_data if x == True])/data_length)\n",
    "print(len([x for x in ultimate_en33_ja50_vi17_chinese_prediction_POS_data if x == True])/data_length)\n",
    "print(len([x for x in ultimate_en33_ja17_vi50_chinese_prediction_POS_data if x == True])/data_length)"
   ]
  },
  {
   "cell_type": "markdown",
   "metadata": {},
   "source": [
    "Now we have the UAS and POS data, so we can calculate the LAS labels, which is True, if both UAS and POS label are True and False otherwise"
   ]
  },
  {
   "cell_type": "code",
   "execution_count": 145,
   "metadata": {},
   "outputs": [],
   "source": [
    "LAS_data = []\n",
    "for index in range(data_length):\n",
    "    if ultimate_en33_ja33_vi33_chinese_prediction_UAS_data[index]== True and ultimate_en33_ja33_vi33_chinese_prediction_POS_data[index] == True:\n",
    "        LAS_data.append(True)\n",
    "    else:\n",
    "        LAS_data.append(False)\n",
    "ultimate_en33_ja33_vi33_chinese_prediction_LAS_data = LAS_data\n",
    "\n",
    "LAS_data = []\n",
    "for index in range(data_length):\n",
    "    if ultimate_en50_ja25_vi25_chinese_prediction_UAS_data[index]== True and ultimate_en50_ja25_vi25_chinese_prediction_POS_data[index] == True:\n",
    "        LAS_data.append(True)\n",
    "    else:\n",
    "        LAS_data.append(False)\n",
    "ultimate_en50_ja25_vi25_chinese_prediction_LAS_data = LAS_data\n",
    "\n",
    "LAS_data = []\n",
    "for index in range(data_length):\n",
    "    if ultimate_en33_ja50_vi17_chinese_prediction_UAS_data[index]== True and ultimate_en33_ja50_vi17_chinese_prediction_POS_data[index] == True:\n",
    "        LAS_data.append(True)\n",
    "    else:\n",
    "        LAS_data.append(False)\n",
    "ultimate_en33_ja50_vi17_chinese_prediction_LAS_data = LAS_data\n",
    "\n",
    "LAS_data = []\n",
    "for index in range(data_length):\n",
    "    if ultimate_en33_ja17_vi50_chinese_prediction_UAS_data[index]== True and ultimate_en33_ja17_vi50_chinese_prediction_POS_data[index] == True:\n",
    "        LAS_data.append(True)\n",
    "    else:\n",
    "        LAS_data.append(False)\n",
    "ultimate_en33_ja17_vi50_chinese_prediction_LAS_data = LAS_data"
   ]
  },
  {
   "cell_type": "code",
   "execution_count": 146,
   "metadata": {},
   "outputs": [
    {
     "name": "stdout",
     "output_type": "stream",
     "text": [
      "3441\n",
      "3276\n",
      "3279\n",
      "3319\n"
     ]
    }
   ],
   "source": [
    "counter = 0\n",
    "for zahl in ultimate_en33_ja33_vi33_chinese_prediction_LAS_data:\n",
    "    if zahl == True:\n",
    "        counter += 1\n",
    "print(counter)\n",
    "\n",
    "counter = 0\n",
    "for zahl in ultimate_en50_ja25_vi25_chinese_prediction_LAS_data:\n",
    "    if zahl == True:\n",
    "        counter += 1\n",
    "print(counter)\n",
    "\n",
    "counter = 0\n",
    "for zahl in ultimate_en33_ja50_vi17_chinese_prediction_LAS_data:\n",
    "    if zahl == True:\n",
    "        counter += 1\n",
    "print(counter)\n",
    "\n",
    "counter = 0\n",
    "for zahl in ultimate_en33_ja17_vi50_chinese_prediction_LAS_data:\n",
    "    if zahl == True:\n",
    "        counter += 1\n",
    "print(counter)"
   ]
  },
  {
   "cell_type": "markdown",
   "metadata": {},
   "source": [
    "Nice! Now we have the data on which LAS labels are correct, now we can test the statistical significance: Is the model ultimate_en33_ja33_vi33 significantly better than the other models in analyzing the Chinese treebank?\n",
    "\n",
    "To this end, we have to calculate:\n",
    "1. The \"Trials\" - the Number of cases where the ultimate_en33_ja33_vi33 model and the \n",
    "    1. ultimate_en50_ja25_vi25\n",
    "    2. ultimate_en33_ja50_vi17\n",
    "    3. ultimate_en33_ja17_vi50 \n",
    "    model differ\n",
    "2. The \"Successes\" - the Number of cases where the ultimate_en33_ja33_vi33 model is better than the \n",
    "    1. ultimate_en50_ja25_vi25\n",
    "    2. ultimate_en33_ja50_vi17\n",
    "    3. ultimate_en33_ja17_vi50 \n",
    "    model\n",
    "\n",
    "Then we can use the binominal test to see if these differences are likely to be a coincidence or statistically significant."
   ]
  },
  {
   "cell_type": "code",
   "execution_count": 152,
   "metadata": {},
   "outputs": [
    {
     "name": "stdout",
     "output_type": "stream",
     "text": [
      "961\n",
      "563\n",
      "1102\n",
      "632\n",
      "1072\n",
      "597\n"
     ]
    }
   ],
   "source": [
    "trial_1 = 0\n",
    "for index in range(data_length):\n",
    "    if ultimate_en33_ja33_vi33_chinese_prediction_LAS_data[index] != ultimate_en50_ja25_vi25_chinese_prediction_LAS_data[index]:\n",
    "        trial_1 += 1\n",
    "print(trial_1)\n",
    "successes_1 = 0\n",
    "for index in range(data_length):\n",
    "    if ultimate_en33_ja33_vi33_chinese_prediction_LAS_data[index] == True and ultimate_en50_ja25_vi25_chinese_prediction_LAS_data[index] == False:\n",
    "        successes_1 += 1\n",
    "print(successes_1)\n",
    "\n",
    "trial_2 = 0\n",
    "for index in range(data_length):\n",
    "    if ultimate_en33_ja33_vi33_chinese_prediction_LAS_data[index] != ultimate_en33_ja50_vi17_chinese_prediction_LAS_data[index]:\n",
    "        trial_2 += 1\n",
    "print(trial_2)\n",
    "successes_2 = 0\n",
    "for index in range(data_length):\n",
    "    if ultimate_en33_ja33_vi33_chinese_prediction_LAS_data[index] == True and ultimate_en33_ja50_vi17_chinese_prediction_LAS_data[index] == False:\n",
    "        successes_2 += 1\n",
    "print(successes_2)\n",
    "\n",
    "trial_3 = 0\n",
    "for index in range(data_length):\n",
    "    if ultimate_en33_ja33_vi33_chinese_prediction_LAS_data[index] != ultimate_en33_ja17_vi50_chinese_prediction_LAS_data[index]:\n",
    "        trial_3 += 1\n",
    "print(trial_3)\n",
    "successes_3 = 0\n",
    "for index in range(data_length):\n",
    "    if ultimate_en33_ja33_vi33_chinese_prediction_LAS_data[index] == True and ultimate_en33_ja17_vi50_chinese_prediction_LAS_data[index] == False:\n",
    "        successes_3 += 1\n",
    "print(successes_3)\n"
   ]
  },
  {
   "cell_type": "markdown",
   "metadata": {},
   "source": [
    "Now let's calculate the p-value:"
   ]
  },
  {
   "cell_type": "code",
   "execution_count": 161,
   "metadata": {},
   "outputs": [
    {
     "name": "stdout",
     "output_type": "stream",
     "text": [
      "1.14017773454234e-07\n",
      "1.1842786994659202e-06\n",
      "0.00021621297060019082\n"
     ]
    }
   ],
   "source": [
    "import scipy.stats\n",
    "print(scipy.stats.binom_test(successes_1, trial_1))\n",
    "print(scipy.stats.binom_test(successes_2, trial_2))\n",
    "print(scipy.stats.binom_test(successes_3, trial_3))\n"
   ]
  },
  {
   "cell_type": "markdown",
   "metadata": {},
   "source": [
    "Intresting! In all 3 cases the p value is bigger than 0.05. Hence we can say that the ultimate_en33_ja33_vi33 model is significantly better than the other three (with 95% confidence)."
   ]
  }
 ],
 "metadata": {
  "kernelspec": {
   "display_name": "Python 3",
   "language": "python",
   "name": "python3"
  },
  "language_info": {
   "codemirror_mode": {
    "name": "ipython",
    "version": 3
   },
   "file_extension": ".py",
   "mimetype": "text/x-python",
   "name": "python",
   "nbconvert_exporter": "python",
   "pygments_lexer": "ipython3",
   "version": "3.6.8"
  }
 },
 "nbformat": 4,
 "nbformat_minor": 2
}
